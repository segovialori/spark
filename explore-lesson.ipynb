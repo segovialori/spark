{
 "cells": [
  {
   "cell_type": "markdown",
   "metadata": {},
   "source": [
    "## Exploring Strategies with Distributed Data\n",
    "\n",
    "1. Work with **all** of the data with **spark**\n",
    "\n",
    "    \\+ most accurate reports    \n",
    "    \\- limited by the operations that spark provides, e.g. visualization. \n",
    "\n",
    "\n",
    "2. Work with a **sample** of the data with **pandas**\n",
    "\n",
    "    \\+ This lets us use the tools we are already familiar with to explore the data  \n",
    "    \\+ More visualization options  \n",
    "    \\+ Faster iteration   \n",
    "    \\- We are working with a sample, and not the entire data, so we could be missing information.  \n",
    "\n",
    "\n",
    "3. **Aggregate** the data with **spark**, and then work with the aggregated data locally with **Pandas**\n",
    "\n",
    "    \\+ We won't \"miss out\" on anything like we have the potential to do when working with sampled data  \n",
    "    \\+ Benefits of working locally in the pandas ecosystem   \n",
    "    \\- However, we are limited by the fact that we have to do aggregation, which usually results in a different shape of data, and information is lost when aggregating.  "
   ]
  },
  {
   "cell_type": "code",
   "execution_count": 1,
   "metadata": {},
   "outputs": [
    {
     "name": "stdout",
     "output_type": "stream",
     "text": [
      "[wrangle.py] reading case.csv\n",
      "[wrangle.py] handling data types\n",
      "[wrangle.py] parsing dates\n",
      "[wrangle.py] adding features\n",
      "[wrangle.py] joining departments\n",
      "\n",
      "df shape: (841704, 20)\n",
      "\n",
      "-RECORD 0------------------------------------\n",
      " case_id              | 1014127332           \n",
      " case_opened_date     | 2018-01-01 00:42:00  \n",
      " case_closed_date     | 2018-01-01 12:29:00  \n",
      " case_due_date        | 2020-09-26 00:42:00  \n",
      " case_late            | false                \n",
      " num_days_late        | -998.5087616000001   \n",
      " case_closed          | true                 \n",
      " service_request_type | Stray Animal         \n",
      " SLA_days             | 999.0                \n",
      " case_status          | Closed               \n",
      " source_id            | svcCRMLS             \n",
      " request_address      | 2315  EL PASO ST,... \n",
      " council_district     | 005                  \n",
      " num_weeks_late       | -142.6441088         \n",
      " zipcode              | 78207                \n",
      " case_age             | 219                  \n",
      " days_to_closed       | 0                    \n",
      " case_lifetime        | 0                    \n",
      " department           | Animal Care Services \n",
      " dept_subject_to_SLA  | true                 \n",
      "only showing top 1 row\n",
      "\n"
     ]
    }
   ],
   "source": [
    "import warnings\n",
    "\n",
    "warnings.filterwarnings(\"ignore\")\n",
    "\n",
    "import pyspark.sql\n",
    "from pyspark.sql.functions import *\n",
    "\n",
    "import numpy as np\n",
    "import pandas as pd\n",
    "\n",
    "%matplotlib inline\n",
    "import matplotlib.pyplot as plt\n",
    "import seaborn as sns\n",
    "\n",
    "from wrangle import wrangle_311\n",
    "\n",
    "spark = pyspark.sql.SparkSession.builder.getOrCreate()\n",
    "\n",
    "df = wrangle_311(spark)\n",
    "print(\"\\ndf shape: (%d, %d)\\n\" % (df.count(), len(df.columns)))\n",
    "df.show(1, vertical=True)"
   ]
  },
  {
   "cell_type": "markdown",
   "metadata": {},
   "source": [
    "\n",
    "## Strategy 1: Work with all the data using Spark"
   ]
  },
  {
   "cell_type": "code",
   "execution_count": null,
   "metadata": {},
   "outputs": [],
   "source": []
  },
  {
   "cell_type": "markdown",
   "metadata": {},
   "source": [
    "## Strategy 2: Work with a sample of the data with Pandas"
   ]
  },
  {
   "cell_type": "code",
   "execution_count": null,
   "metadata": {},
   "outputs": [],
   "source": []
  },
  {
   "cell_type": "markdown",
   "metadata": {},
   "source": [
    "## Strategy 3: Aggregate with spark, and then work with the aggregated data using Pandas"
   ]
  },
  {
   "cell_type": "code",
   "execution_count": null,
   "metadata": {},
   "outputs": [],
   "source": []
  }
 ],
 "metadata": {
  "kernelspec": {
   "display_name": "Python 3",
   "language": "python",
   "name": "python3"
  },
  "language_info": {
   "codemirror_mode": {
    "name": "ipython",
    "version": 3
   },
   "file_extension": ".py",
   "mimetype": "text/x-python",
   "name": "python",
   "nbconvert_exporter": "python",
   "pygments_lexer": "ipython3",
   "version": "3.8.5"
  }
 },
 "nbformat": 4,
 "nbformat_minor": 2
}
