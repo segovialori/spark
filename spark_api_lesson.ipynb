{
 "cells": [
  {
   "cell_type": "markdown",
   "metadata": {},
   "source": [
    "# Spark API Lesson"
   ]
  },
  {
   "cell_type": "markdown",
   "metadata": {},
   "source": [
    "## Sorting and Ordering"
   ]
  },
  {
   "cell_type": "code",
   "execution_count": 1,
   "metadata": {},
   "outputs": [],
   "source": [
    "import pandas as pd\n",
    "import numpy as np\n",
    "import pyspark\n",
    "from pydataset import data\n",
    "\n",
    "\n",
    "spark = pyspark.sql.SparkSession.builder.getOrCreate()\n",
    "np.random.seed(13)"
   ]
  },
  {
   "cell_type": "code",
   "execution_count": 2,
   "metadata": {},
   "outputs": [],
   "source": [
    "pandas_dataframe = data(\"tips\")"
   ]
  },
  {
   "cell_type": "code",
   "execution_count": 3,
   "metadata": {},
   "outputs": [
    {
     "data": {
      "text/plain": [
       "DataFrame[total_bill: double, tip: double, sex: string, smoker: string, day: string, time: string, size: bigint]"
      ]
     },
     "execution_count": 3,
     "metadata": {},
     "output_type": "execute_result"
    }
   ],
   "source": [
    "df = spark.createDataFrame(pandas_dataframe)\n",
    "df"
   ]
  },
  {
   "cell_type": "code",
   "execution_count": 4,
   "metadata": {},
   "outputs": [
    {
     "name": "stdout",
     "output_type": "stream",
     "text": [
      "+----------+----+------+------+---+------+----+\n",
      "|total_bill| tip|   sex|smoker|day|  time|size|\n",
      "+----------+----+------+------+---+------+----+\n",
      "|      8.58|1.92|  Male|   Yes|Fri| Lunch|   1|\n",
      "|     12.46| 1.5|  Male|    No|Fri|Dinner|   2|\n",
      "|     12.03| 1.5|  Male|   Yes|Fri|Dinner|   2|\n",
      "|     16.32| 4.3|Female|   Yes|Fri|Dinner|   2|\n",
      "|     12.16| 2.2|  Male|   Yes|Fri| Lunch|   2|\n",
      "|     27.28| 4.0|  Male|   Yes|Fri|Dinner|   2|\n",
      "|     11.35| 2.5|Female|   Yes|Fri|Dinner|   2|\n",
      "|     22.49| 3.5|  Male|    No|Fri|Dinner|   2|\n",
      "|     10.09| 2.0|Female|   Yes|Fri| Lunch|   2|\n",
      "|      5.75| 1.0|Female|   Yes|Fri|Dinner|   2|\n",
      "|     15.38| 3.0|Female|   Yes|Fri|Dinner|   2|\n",
      "|     21.01| 3.0|  Male|   Yes|Fri|Dinner|   2|\n",
      "|     13.42|3.48|Female|   Yes|Fri| Lunch|   2|\n",
      "|     16.27| 2.5|Female|   Yes|Fri| Lunch|   2|\n",
      "|     13.42|1.58|  Male|   Yes|Fri| Lunch|   2|\n",
      "|     28.97| 3.0|  Male|   Yes|Fri|Dinner|   2|\n",
      "|     22.75|3.25|Female|    No|Fri|Dinner|   2|\n",
      "|     15.98| 3.0|Female|    No|Fri| Lunch|   3|\n",
      "|     40.17|4.73|  Male|   Yes|Fri|Dinner|   4|\n",
      "|      3.07| 1.0|Female|   Yes|Sat|Dinner|   1|\n",
      "+----------+----+------+------+---+------+----+\n",
      "only showing top 20 rows\n",
      "\n"
     ]
    }
   ],
   "source": [
    "df.sort(df.day, df.size).show()"
   ]
  },
  {
   "cell_type": "code",
   "execution_count": 5,
   "metadata": {},
   "outputs": [],
   "source": [
    "from pyspark.sql.functions import asc, desc"
   ]
  },
  {
   "cell_type": "code",
   "execution_count": 6,
   "metadata": {},
   "outputs": [
    {
     "name": "stdout",
     "output_type": "stream",
     "text": [
      "+----------+----+------+------+---+------+----+\n",
      "|total_bill| tip|   sex|smoker|day|  time|size|\n",
      "+----------+----+------+------+---+------+----+\n",
      "|     40.17|4.73|  Male|   Yes|Fri|Dinner|   4|\n",
      "|     15.98| 3.0|Female|    No|Fri| Lunch|   3|\n",
      "|     22.75|3.25|Female|    No|Fri|Dinner|   2|\n",
      "|     22.49| 3.5|  Male|    No|Fri|Dinner|   2|\n",
      "|     28.97| 3.0|  Male|   Yes|Fri|Dinner|   2|\n",
      "|     12.46| 1.5|  Male|    No|Fri|Dinner|   2|\n",
      "|     13.42|3.48|Female|   Yes|Fri| Lunch|   2|\n",
      "|     15.38| 3.0|Female|   Yes|Fri|Dinner|   2|\n",
      "|     27.28| 4.0|  Male|   Yes|Fri|Dinner|   2|\n",
      "|     10.09| 2.0|Female|   Yes|Fri| Lunch|   2|\n",
      "|     13.42|1.58|  Male|   Yes|Fri| Lunch|   2|\n",
      "|     21.01| 3.0|  Male|   Yes|Fri|Dinner|   2|\n",
      "|     12.03| 1.5|  Male|   Yes|Fri|Dinner|   2|\n",
      "|     16.27| 2.5|Female|   Yes|Fri| Lunch|   2|\n",
      "|      5.75| 1.0|Female|   Yes|Fri|Dinner|   2|\n",
      "|     11.35| 2.5|Female|   Yes|Fri|Dinner|   2|\n",
      "|     12.16| 2.2|  Male|   Yes|Fri| Lunch|   2|\n",
      "|     16.32| 4.3|Female|   Yes|Fri|Dinner|   2|\n",
      "|      8.58|1.92|  Male|   Yes|Fri| Lunch|   1|\n",
      "|     28.15| 3.0|  Male|   Yes|Sat|Dinner|   5|\n",
      "+----------+----+------+------+---+------+----+\n",
      "only showing top 20 rows\n",
      "\n"
     ]
    }
   ],
   "source": [
    "df.sort(df.day, desc('size')).show()"
   ]
  },
  {
   "cell_type": "code",
   "execution_count": 7,
   "metadata": {},
   "outputs": [
    {
     "name": "stdout",
     "output_type": "stream",
     "text": [
      "+----------+----+------+------+---+------+----+\n",
      "|total_bill| tip|   sex|smoker|day|  time|size|\n",
      "+----------+----+------+------+---+------+----+\n",
      "|     40.17|4.73|  Male|   Yes|Fri|Dinner|   4|\n",
      "|     27.28| 4.0|  Male|   Yes|Fri|Dinner|   2|\n",
      "|     12.46| 1.5|  Male|    No|Fri|Dinner|   2|\n",
      "|     21.01| 3.0|  Male|   Yes|Fri|Dinner|   2|\n",
      "|     22.75|3.25|Female|    No|Fri|Dinner|   2|\n",
      "|     28.97| 3.0|  Male|   Yes|Fri|Dinner|   2|\n",
      "|     15.38| 3.0|Female|   Yes|Fri|Dinner|   2|\n",
      "|     22.49| 3.5|  Male|    No|Fri|Dinner|   2|\n",
      "|     11.35| 2.5|Female|   Yes|Fri|Dinner|   2|\n",
      "|      5.75| 1.0|Female|   Yes|Fri|Dinner|   2|\n",
      "|     12.03| 1.5|  Male|   Yes|Fri|Dinner|   2|\n",
      "|     16.32| 4.3|Female|   Yes|Fri|Dinner|   2|\n",
      "|     15.98| 3.0|Female|    No|Fri| Lunch|   3|\n",
      "|     13.42|1.58|  Male|   Yes|Fri| Lunch|   2|\n",
      "|     10.09| 2.0|Female|   Yes|Fri| Lunch|   2|\n",
      "|     13.42|3.48|Female|   Yes|Fri| Lunch|   2|\n",
      "|     12.16| 2.2|  Male|   Yes|Fri| Lunch|   2|\n",
      "|     16.27| 2.5|Female|   Yes|Fri| Lunch|   2|\n",
      "|      8.58|1.92|  Male|   Yes|Fri| Lunch|   1|\n",
      "|     28.15| 3.0|  Male|   Yes|Sat|Dinner|   5|\n",
      "+----------+----+------+------+---+------+----+\n",
      "only showing top 20 rows\n",
      "\n"
     ]
    }
   ],
   "source": [
    "#sort by day, then time with dinner first alphabet, then descending by size startign with largest to smallest\n",
    "df.sort(df.day, asc('time'),  desc('size')).show()"
   ]
  },
  {
   "cell_type": "code",
   "execution_count": 9,
   "metadata": {},
   "outputs": [],
   "source": [
    "# df.sort(col('size').desc(), col('time')).show()"
   ]
  },
  {
   "cell_type": "code",
   "execution_count": 10,
   "metadata": {},
   "outputs": [
    {
     "name": "stdout",
     "output_type": "stream",
     "text": [
      "+----------+----+------+------+---+------+----+\n",
      "|total_bill| tip|   sex|smoker|day|  time|size|\n",
      "+----------+----+------+------+---+------+----+\n",
      "|     16.99|1.01|Female|    No|Sun|Dinner|   2|\n",
      "|     10.34|1.66|  Male|    No|Sun|Dinner|   3|\n",
      "|     21.01| 3.5|  Male|    No|Sun|Dinner|   3|\n",
      "|     23.68|3.31|  Male|    No|Sun|Dinner|   2|\n",
      "|     24.59|3.61|Female|    No|Sun|Dinner|   4|\n",
      "|      8.77| 2.0|  Male|    No|Sun|Dinner|   2|\n",
      "|     26.88|3.12|  Male|    No|Sun|Dinner|   4|\n",
      "|     15.04|1.96|  Male|    No|Sun|Dinner|   2|\n",
      "|     14.78|3.23|  Male|    No|Sun|Dinner|   2|\n",
      "|     10.27|1.71|  Male|    No|Sun|Dinner|   2|\n",
      "|     15.42|1.57|  Male|    No|Sun|Dinner|   2|\n",
      "|     18.43| 3.0|  Male|    No|Sun|Dinner|   4|\n",
      "|     14.83|3.02|Female|    No|Sun|Dinner|   2|\n",
      "|     21.58|3.92|  Male|    No|Sun|Dinner|   2|\n",
      "|     10.33|1.67|Female|    No|Sun|Dinner|   3|\n",
      "|     16.29|3.71|  Male|    No|Sun|Dinner|   3|\n",
      "|     16.97| 3.5|Female|    No|Sun|Dinner|   3|\n",
      "|     20.65|3.35|  Male|    No|Sat|Dinner|   3|\n",
      "|     20.29|2.75|Female|    No|Sat|Dinner|   2|\n",
      "|     15.77|2.23|Female|    No|Sat|Dinner|   2|\n",
      "+----------+----+------+------+---+------+----+\n",
      "only showing top 20 rows\n",
      "\n"
     ]
    }
   ],
   "source": [
    "#.where and filter do the same thing\n",
    "df.where(df.tip < 4).show()"
   ]
  },
  {
   "cell_type": "code",
   "execution_count": null,
   "metadata": {},
   "outputs": [],
   "source": [
    "#pandas would give boolean values\n",
    "#now we get column expression representing this expression\n",
    "#turn into mask then show\n",
    "\n",
    "df.tip < 4"
   ]
  },
  {
   "cell_type": "code",
   "execution_count": null,
   "metadata": {},
   "outputs": [],
   "source": [
    "mask = df.tip < 4\n"
   ]
  },
  {
   "cell_type": "code",
   "execution_count": 12,
   "metadata": {},
   "outputs": [
    {
     "name": "stdout",
     "output_type": "stream",
     "text": [
      "+----------+----+------+------+----+------+----+\n",
      "|total_bill| tip|   sex|smoker| day|  time|size|\n",
      "+----------+----+------+------+----+------+----+\n",
      "|      5.75| 1.0|Female|   Yes| Fri|Dinner|   2|\n",
      "|      7.25| 1.0|Female|    No| Sat|Dinner|   1|\n",
      "|      12.6| 1.0|  Male|   Yes| Sat|Dinner|   2|\n",
      "|      3.07| 1.0|Female|   Yes| Sat|Dinner|   1|\n",
      "|     16.99|1.01|Female|    No| Sun|Dinner|   2|\n",
      "|      12.9| 1.1|Female|   Yes| Sat|Dinner|   2|\n",
      "|     32.83|1.17|  Male|   Yes| Sat|Dinner|   2|\n",
      "|     10.07|1.25|  Male|    No| Sat|Dinner|   2|\n",
      "|     10.51|1.25|  Male|    No| Sat|Dinner|   2|\n",
      "|      8.51|1.25|Female|    No|Thur| Lunch|   2|\n",
      "|      9.68|1.32|  Male|    No| Sun|Dinner|   2|\n",
      "|     18.64|1.36|Female|    No|Thur| Lunch|   3|\n",
      "|      7.74|1.44|  Male|   Yes| Sat|Dinner|   2|\n",
      "|      7.56|1.44|  Male|    No|Thur| Lunch|   2|\n",
      "|      9.55|1.45|  Male|    No| Sat|Dinner|   2|\n",
      "|     10.77|1.47|  Male|    No| Sat|Dinner|   2|\n",
      "|      8.52|1.48|  Male|    No|Thur| Lunch|   2|\n",
      "|     19.08| 1.5|  Male|    No|Thur| Lunch|   2|\n",
      "|      8.35| 1.5|Female|    No|Thur| Lunch|   2|\n",
      "|     12.46| 1.5|  Male|    No| Fri|Dinner|   2|\n",
      "+----------+----+------+------+----+------+----+\n",
      "only showing top 20 rows\n",
      "\n"
     ]
    }
   ],
   "source": [
    "#pipe line is \"or\"\n",
    "df.filter((df.time == 'Dinner')|(df.tip <= 2)).sort('tip').show()"
   ]
  },
  {
   "cell_type": "code",
   "execution_count": 14,
   "metadata": {},
   "outputs": [
    {
     "name": "stdout",
     "output_type": "stream",
     "text": [
      "+----------+----+------+------+---+------+----+\n",
      "|total_bill| tip|   sex|smoker|day|  time|size|\n",
      "+----------+----+------+------+---+------+----+\n",
      "|     38.01| 3.0|  Male|   Yes|Sat|Dinner|   4|\n",
      "|     11.24|1.76|  Male|   Yes|Sat|Dinner|   2|\n",
      "|     20.29|3.21|  Male|   Yes|Sat|Dinner|   2|\n",
      "|     13.81| 2.0|  Male|   Yes|Sat|Dinner|   2|\n",
      "|     11.02|1.98|  Male|   Yes|Sat|Dinner|   2|\n",
      "|     18.29|3.76|  Male|   Yes|Sat|Dinner|   4|\n",
      "|      3.07| 1.0|Female|   Yes|Sat|Dinner|   1|\n",
      "|     15.01|2.09|  Male|   Yes|Sat|Dinner|   2|\n",
      "|     26.86|3.14|Female|   Yes|Sat|Dinner|   2|\n",
      "|     25.28| 5.0|Female|   Yes|Sat|Dinner|   2|\n",
      "|     17.92|3.08|  Male|   Yes|Sat|Dinner|   2|\n",
      "|      44.3| 2.5|Female|   Yes|Sat|Dinner|   3|\n",
      "|     22.42|3.48|Female|   Yes|Sat|Dinner|   2|\n",
      "|     15.36|1.64|  Male|   Yes|Sat|Dinner|   2|\n",
      "|     20.49|4.06|  Male|   Yes|Sat|Dinner|   2|\n",
      "|     25.21|4.29|  Male|   Yes|Sat|Dinner|   2|\n",
      "|     14.31| 4.0|Female|   Yes|Sat|Dinner|   2|\n",
      "|     10.59|1.61|Female|   Yes|Sat|Dinner|   2|\n",
      "|     10.63| 2.0|Female|   Yes|Sat|Dinner|   2|\n",
      "|     50.81|10.0|  Male|   Yes|Sat|Dinner|   3|\n",
      "+----------+----+------+------+---+------+----+\n",
      "only showing top 20 rows\n",
      "\n"
     ]
    }
   ],
   "source": [
    "#muli .where is like \"and\"\n",
    "df.where(df.smoker == 'Yes').where(df.day == 'Sat').show()"
   ]
  },
  {
   "cell_type": "markdown",
   "metadata": {},
   "source": [
    "## Grouping and Aggregating"
   ]
  },
  {
   "cell_type": "markdown",
   "metadata": {},
   "source": [
    "- When we want to sort multiple groups together"
   ]
  },
  {
   "cell_type": "code",
   "execution_count": 15,
   "metadata": {},
   "outputs": [
    {
     "name": "stdout",
     "output_type": "stream",
     "text": [
      "+----------+----+------+------+---+------+----+\n",
      "|total_bill| tip|   sex|smoker|day|  time|size|\n",
      "+----------+----+------+------+---+------+----+\n",
      "|     16.99|1.01|Female|    No|Sun|Dinner|   2|\n",
      "|     10.34|1.66|  Male|    No|Sun|Dinner|   3|\n",
      "|     21.01| 3.5|  Male|    No|Sun|Dinner|   3|\n",
      "|     23.68|3.31|  Male|    No|Sun|Dinner|   2|\n",
      "|     24.59|3.61|Female|    No|Sun|Dinner|   4|\n",
      "|     25.29|4.71|  Male|    No|Sun|Dinner|   4|\n",
      "|      8.77| 2.0|  Male|    No|Sun|Dinner|   2|\n",
      "|     26.88|3.12|  Male|    No|Sun|Dinner|   4|\n",
      "|     15.04|1.96|  Male|    No|Sun|Dinner|   2|\n",
      "|     14.78|3.23|  Male|    No|Sun|Dinner|   2|\n",
      "|     10.27|1.71|  Male|    No|Sun|Dinner|   2|\n",
      "|     35.26| 5.0|Female|    No|Sun|Dinner|   4|\n",
      "|     15.42|1.57|  Male|    No|Sun|Dinner|   2|\n",
      "|     18.43| 3.0|  Male|    No|Sun|Dinner|   4|\n",
      "|     14.83|3.02|Female|    No|Sun|Dinner|   2|\n",
      "|     21.58|3.92|  Male|    No|Sun|Dinner|   2|\n",
      "|     10.33|1.67|Female|    No|Sun|Dinner|   3|\n",
      "|     16.29|3.71|  Male|    No|Sun|Dinner|   3|\n",
      "|     16.97| 3.5|Female|    No|Sun|Dinner|   3|\n",
      "|     20.65|3.35|  Male|    No|Sat|Dinner|   3|\n",
      "+----------+----+------+------+---+------+----+\n",
      "only showing top 20 rows\n",
      "\n"
     ]
    }
   ],
   "source": [
    "df.show()"
   ]
  },
  {
   "cell_type": "code",
   "execution_count": 16,
   "metadata": {},
   "outputs": [],
   "source": [
    "from pyspark.sql.functions import concat, sum, avg, min, max, count, mean\n"
   ]
  },
  {
   "cell_type": "code",
   "execution_count": 17,
   "metadata": {},
   "outputs": [
    {
     "name": "stdout",
     "output_type": "stream",
     "text": [
      "+------+------------------+\n",
      "|  time|          avg(tip)|\n",
      "+------+------------------+\n",
      "| Lunch|2.7280882352941176|\n",
      "|Dinner| 3.102670454545455|\n",
      "+------+------------------+\n",
      "\n"
     ]
    }
   ],
   "source": [
    "df.groupBy('time').agg(mean('tip')).show()"
   ]
  },
  {
   "cell_type": "code",
   "execution_count": 18,
   "metadata": {},
   "outputs": [
    {
     "name": "stdout",
     "output_type": "stream",
     "text": [
      "+------+--------+------------------+--------+\n",
      "|  time|min(tip)|          avg(tip)|max(tip)|\n",
      "+------+--------+------------------+--------+\n",
      "| Lunch|    1.25|2.7280882352941176|     6.7|\n",
      "|Dinner|     1.0| 3.102670454545455|    10.0|\n",
      "+------+--------+------------------+--------+\n",
      "\n"
     ]
    }
   ],
   "source": [
    "df.groupBy('time').agg(min('tip'), mean('tip'), max('tip')).show()"
   ]
  },
  {
   "cell_type": "code",
   "execution_count": 19,
   "metadata": {},
   "outputs": [
    {
     "name": "stdout",
     "output_type": "stream",
     "text": [
      "+------+------------------+\n",
      "|  time|           avg_tip|\n",
      "+------+------------------+\n",
      "| Lunch|2.7280882352941176|\n",
      "|Dinner| 3.102670454545455|\n",
      "+------+------------------+\n",
      "\n"
     ]
    }
   ],
   "source": [
    "df.groupBy('time').agg(mean('tip').alias('avg_tip')).show()"
   ]
  },
  {
   "cell_type": "code",
   "execution_count": 20,
   "metadata": {},
   "outputs": [
    {
     "name": "stdout",
     "output_type": "stream",
     "text": [
      "+------+----+------------------+\n",
      "|  time| day|   avg(total_bill)|\n",
      "+------+----+------------------+\n",
      "| Lunch|Thur|17.664754098360653|\n",
      "|Dinner|Thur|             18.78|\n",
      "| Lunch| Fri|12.845714285714285|\n",
      "|Dinner| Fri| 19.66333333333333|\n",
      "|Dinner| Sun|21.409999999999997|\n",
      "|Dinner| Sat|20.441379310344825|\n",
      "+------+----+------------------+\n",
      "\n"
     ]
    }
   ],
   "source": [
    "df.groupBy('time', 'day').agg(mean('total_bill')).show()"
   ]
  },
  {
   "cell_type": "code",
   "execution_count": 21,
   "metadata": {},
   "outputs": [
    {
     "name": "stdout",
     "output_type": "stream",
     "text": [
      "+--------+---+---+---+----+\n",
      "|time_day|Fri|Sat|Sun|Thur|\n",
      "+--------+---+---+---+----+\n",
      "|   Lunch|  7|  0|  0|  61|\n",
      "|  Dinner| 12| 87| 76|   1|\n",
      "+--------+---+---+---+----+\n",
      "\n"
     ]
    }
   ],
   "source": [
    "df.crosstab('time', 'day').show()"
   ]
  },
  {
   "cell_type": "code",
   "execution_count": 23,
   "metadata": {},
   "outputs": [
    {
     "name": "stdout",
     "output_type": "stream",
     "text": [
      "+------+----+------------------+------------------+------------------+------------------+\n",
      "|  time| day|               Fri|               Sat|               Sun|              Thur|\n",
      "+------+----+------------------+------------------+------------------+------------------+\n",
      "| Lunch|Thur|              null|              null|              null|17.664754098360653|\n",
      "|Dinner|Thur|              null|              null|              null|             18.78|\n",
      "| Lunch| Fri|12.845714285714285|              null|              null|              null|\n",
      "|Dinner| Fri| 19.66333333333333|              null|              null|              null|\n",
      "|Dinner| Sun|              null|              null|21.409999999999997|              null|\n",
      "|Dinner| Sat|              null|20.441379310344825|              null|              null|\n",
      "+------+----+------------------+------------------+------------------+------------------+\n",
      "\n"
     ]
    }
   ],
   "source": [
    "#unique values of pivot colum will be unique columns\n",
    "df.groupBy('time', 'day').pivot('day').agg(mean('total_bill')).show()"
   ]
  },
  {
   "cell_type": "markdown",
   "metadata": {},
   "source": [
    "crosstab is just for counts, for other methods of summarizing groupd, use groupBy (maybe in combination with .pivot and .agg)"
   ]
  },
  {
   "cell_type": "markdown",
   "metadata": {},
   "source": [
    "## Additional Features"
   ]
  },
  {
   "cell_type": "code",
   "execution_count": 25,
   "metadata": {},
   "outputs": [],
   "source": [
    "#session lasts for duration of notebook\n",
    "df.createOrReplaceTempView('tips')"
   ]
  },
  {
   "cell_type": "code",
   "execution_count": 26,
   "metadata": {},
   "outputs": [
    {
     "name": "stdout",
     "output_type": "stream",
     "text": [
      "+----+------------------+\n",
      "| day|   sum(total_bill)|\n",
      "+----+------------------+\n",
      "|Thur|           1096.33|\n",
      "| Sun|1627.1599999999999|\n",
      "| Sat|1778.3999999999996|\n",
      "| Fri|            325.88|\n",
      "+----+------------------+\n",
      "\n"
     ]
    }
   ],
   "source": [
    "spark.sql('''\n",
    "SELECT day, sum(total_bill)\n",
    "FROM tips\n",
    "GROUP BY day''').show()"
   ]
  },
  {
   "cell_type": "code",
   "execution_count": 29,
   "metadata": {},
   "outputs": [
    {
     "ename": "ParseException",
     "evalue": "\nmissing ')' at 'ORDER'(line 8, pos 4)\n\n== SQL ==\n\nSELECT tip, total_bill, day\nFROM tips\nWHERE day = (\n    SELECT day\n    FROM tips\n    GROUP BY day\n    ORDER BY sum(total_bill DESC\n----^^^\n    LIMIT 1\n)\n",
     "output_type": "error",
     "traceback": [
      "\u001b[0;31m---------------------------------------------------------------------------\u001b[0m",
      "\u001b[0;31mParseException\u001b[0m                            Traceback (most recent call last)",
      "\u001b[0;32m<ipython-input-29-b613b351e3df>\u001b[0m in \u001b[0;36m<module>\u001b[0;34m\u001b[0m\n\u001b[1;32m      1\u001b[0m \u001b[0;31m# find the tip, total bill, and day with the highest overall sales for that day\u001b[0m\u001b[0;34m\u001b[0m\u001b[0;34m\u001b[0m\u001b[0;34m\u001b[0m\u001b[0m\n\u001b[0;32m----> 2\u001b[0;31m spark.sql('''\n\u001b[0m\u001b[1;32m      3\u001b[0m \u001b[0mSELECT\u001b[0m \u001b[0mtip\u001b[0m\u001b[0;34m,\u001b[0m \u001b[0mtotal_bill\u001b[0m\u001b[0;34m,\u001b[0m \u001b[0mday\u001b[0m\u001b[0;34m\u001b[0m\u001b[0;34m\u001b[0m\u001b[0m\n\u001b[1;32m      4\u001b[0m \u001b[0mFROM\u001b[0m \u001b[0mtips\u001b[0m\u001b[0;34m\u001b[0m\u001b[0;34m\u001b[0m\u001b[0m\n\u001b[1;32m      5\u001b[0m WHERE day = (\n",
      "\u001b[0;32m/usr/local/anaconda3/lib/python3.8/site-packages/pyspark/sql/session.py\u001b[0m in \u001b[0;36msql\u001b[0;34m(self, sqlQuery)\u001b[0m\n\u001b[1;32m    721\u001b[0m         \u001b[0;34m[\u001b[0m\u001b[0mRow\u001b[0m\u001b[0;34m(\u001b[0m\u001b[0mf1\u001b[0m\u001b[0;34m=\u001b[0m\u001b[0;36m1\u001b[0m\u001b[0;34m,\u001b[0m \u001b[0mf2\u001b[0m\u001b[0;34m=\u001b[0m\u001b[0;34m'row1'\u001b[0m\u001b[0;34m)\u001b[0m\u001b[0;34m,\u001b[0m \u001b[0mRow\u001b[0m\u001b[0;34m(\u001b[0m\u001b[0mf1\u001b[0m\u001b[0;34m=\u001b[0m\u001b[0;36m2\u001b[0m\u001b[0;34m,\u001b[0m \u001b[0mf2\u001b[0m\u001b[0;34m=\u001b[0m\u001b[0;34m'row2'\u001b[0m\u001b[0;34m)\u001b[0m\u001b[0;34m,\u001b[0m \u001b[0mRow\u001b[0m\u001b[0;34m(\u001b[0m\u001b[0mf1\u001b[0m\u001b[0;34m=\u001b[0m\u001b[0;36m3\u001b[0m\u001b[0;34m,\u001b[0m \u001b[0mf2\u001b[0m\u001b[0;34m=\u001b[0m\u001b[0;34m'row3'\u001b[0m\u001b[0;34m)\u001b[0m\u001b[0;34m]\u001b[0m\u001b[0;34m\u001b[0m\u001b[0;34m\u001b[0m\u001b[0m\n\u001b[1;32m    722\u001b[0m         \"\"\"\n\u001b[0;32m--> 723\u001b[0;31m         \u001b[0;32mreturn\u001b[0m \u001b[0mDataFrame\u001b[0m\u001b[0;34m(\u001b[0m\u001b[0mself\u001b[0m\u001b[0;34m.\u001b[0m\u001b[0m_jsparkSession\u001b[0m\u001b[0;34m.\u001b[0m\u001b[0msql\u001b[0m\u001b[0;34m(\u001b[0m\u001b[0msqlQuery\u001b[0m\u001b[0;34m)\u001b[0m\u001b[0;34m,\u001b[0m \u001b[0mself\u001b[0m\u001b[0;34m.\u001b[0m\u001b[0m_wrapped\u001b[0m\u001b[0;34m)\u001b[0m\u001b[0;34m\u001b[0m\u001b[0;34m\u001b[0m\u001b[0m\n\u001b[0m\u001b[1;32m    724\u001b[0m \u001b[0;34m\u001b[0m\u001b[0m\n\u001b[1;32m    725\u001b[0m     \u001b[0;32mdef\u001b[0m \u001b[0mtable\u001b[0m\u001b[0;34m(\u001b[0m\u001b[0mself\u001b[0m\u001b[0;34m,\u001b[0m \u001b[0mtableName\u001b[0m\u001b[0;34m)\u001b[0m\u001b[0;34m:\u001b[0m\u001b[0;34m\u001b[0m\u001b[0;34m\u001b[0m\u001b[0m\n",
      "\u001b[0;32m/usr/local/anaconda3/lib/python3.8/site-packages/py4j/java_gateway.py\u001b[0m in \u001b[0;36m__call__\u001b[0;34m(self, *args)\u001b[0m\n\u001b[1;32m   1302\u001b[0m \u001b[0;34m\u001b[0m\u001b[0m\n\u001b[1;32m   1303\u001b[0m         \u001b[0manswer\u001b[0m \u001b[0;34m=\u001b[0m \u001b[0mself\u001b[0m\u001b[0;34m.\u001b[0m\u001b[0mgateway_client\u001b[0m\u001b[0;34m.\u001b[0m\u001b[0msend_command\u001b[0m\u001b[0;34m(\u001b[0m\u001b[0mcommand\u001b[0m\u001b[0;34m)\u001b[0m\u001b[0;34m\u001b[0m\u001b[0;34m\u001b[0m\u001b[0m\n\u001b[0;32m-> 1304\u001b[0;31m         return_value = get_return_value(\n\u001b[0m\u001b[1;32m   1305\u001b[0m             answer, self.gateway_client, self.target_id, self.name)\n\u001b[1;32m   1306\u001b[0m \u001b[0;34m\u001b[0m\u001b[0m\n",
      "\u001b[0;32m/usr/local/anaconda3/lib/python3.8/site-packages/pyspark/sql/utils.py\u001b[0m in \u001b[0;36mdeco\u001b[0;34m(*a, **kw)\u001b[0m\n\u001b[1;32m    115\u001b[0m                 \u001b[0;31m# Hide where the exception came from that shows a non-Pythonic\u001b[0m\u001b[0;34m\u001b[0m\u001b[0;34m\u001b[0m\u001b[0;34m\u001b[0m\u001b[0m\n\u001b[1;32m    116\u001b[0m                 \u001b[0;31m# JVM exception message.\u001b[0m\u001b[0;34m\u001b[0m\u001b[0;34m\u001b[0m\u001b[0;34m\u001b[0m\u001b[0m\n\u001b[0;32m--> 117\u001b[0;31m                 \u001b[0;32mraise\u001b[0m \u001b[0mconverted\u001b[0m \u001b[0;32mfrom\u001b[0m \u001b[0;32mNone\u001b[0m\u001b[0;34m\u001b[0m\u001b[0;34m\u001b[0m\u001b[0m\n\u001b[0m\u001b[1;32m    118\u001b[0m             \u001b[0;32melse\u001b[0m\u001b[0;34m:\u001b[0m\u001b[0;34m\u001b[0m\u001b[0;34m\u001b[0m\u001b[0m\n\u001b[1;32m    119\u001b[0m                 \u001b[0;32mraise\u001b[0m\u001b[0;34m\u001b[0m\u001b[0;34m\u001b[0m\u001b[0m\n",
      "\u001b[0;31mParseException\u001b[0m: \nmissing ')' at 'ORDER'(line 8, pos 4)\n\n== SQL ==\n\nSELECT tip, total_bill, day\nFROM tips\nWHERE day = (\n    SELECT day\n    FROM tips\n    GROUP BY day\n    ORDER BY sum(total_bill DESC\n----^^^\n    LIMIT 1\n)\n"
     ]
    }
   ],
   "source": [
    "# find the tip, total bill, and day with the highest overall sales for that day\n",
    "spark.sql('''\n",
    "SELECT tip, total_bill, day\n",
    "FROM tips\n",
    "WHERE day = (\n",
    "    SELECT day\n",
    "    FROM tips\n",
    "    GROUP BY day\n",
    "    ORDER BY sum(total_bill DESC\n",
    "    LIMIT 1\n",
    ")\n",
    "''').show()"
   ]
  },
  {
   "cell_type": "code",
   "execution_count": 32,
   "metadata": {},
   "outputs": [
    {
     "name": "stdout",
     "output_type": "stream",
     "text": [
      "+----------+----+------+------+---+------+----+\n",
      "|total_bill| tip|   sex|smoker|day|  time|size|\n",
      "+----------+----+------+------+---+------+----+\n",
      "|     16.99|1.01|Female|    No|Sun|Dinner|   2|\n",
      "|     10.34|1.66|  Male|    No|Sun|Dinner|   3|\n",
      "|     21.01| 3.5|  Male|    No|Sun|Dinner|   3|\n",
      "|     23.68|3.31|  Male|    No|Sun|Dinner|   2|\n",
      "|     24.59|3.61|Female|    No|Sun|Dinner|   4|\n",
      "|     25.29|4.71|  Male|    No|Sun|Dinner|   4|\n",
      "|      8.77| 2.0|  Male|    No|Sun|Dinner|   2|\n",
      "|     26.88|3.12|  Male|    No|Sun|Dinner|   4|\n",
      "|     15.04|1.96|  Male|    No|Sun|Dinner|   2|\n",
      "|     14.78|3.23|  Male|    No|Sun|Dinner|   2|\n",
      "|     10.27|1.71|  Male|    No|Sun|Dinner|   2|\n",
      "|     35.26| 5.0|Female|    No|Sun|Dinner|   4|\n",
      "|     15.42|1.57|  Male|    No|Sun|Dinner|   2|\n",
      "|     18.43| 3.0|  Male|    No|Sun|Dinner|   4|\n",
      "|     14.83|3.02|Female|    No|Sun|Dinner|   2|\n",
      "|     21.58|3.92|  Male|    No|Sun|Dinner|   2|\n",
      "|     10.33|1.67|Female|    No|Sun|Dinner|   3|\n",
      "|     16.29|3.71|  Male|    No|Sun|Dinner|   3|\n",
      "|     16.97| 3.5|Female|    No|Sun|Dinner|   3|\n",
      "|     20.65|3.35|  Male|    No|Sat|Dinner|   3|\n",
      "+----------+----+------+------+---+------+----+\n",
      "only showing top 20 rows\n",
      "\n"
     ]
    }
   ],
   "source": [
    "df.select('*').show()"
   ]
  },
  {
   "cell_type": "code",
   "execution_count": 31,
   "metadata": {},
   "outputs": [
    {
     "name": "stdout",
     "output_type": "stream",
     "text": [
      "== Physical Plan ==\n",
      "*(1) Scan ExistingRDD[total_bill#0,tip#1,sex#2,smoker#3,day#4,time#5,size#6L]\n",
      "\n",
      "\n"
     ]
    }
   ],
   "source": [
    "#query planner, the way that the query will be executed\n",
    "df.select('*').explain()"
   ]
  },
  {
   "cell_type": "code",
   "execution_count": 33,
   "metadata": {},
   "outputs": [
    {
     "name": "stdout",
     "output_type": "stream",
     "text": [
      "== Physical Plan ==\n",
      "*(1) Project [total_bill#0, tip#1, sex#2, smoker#3, day#4, time#5, size#6L, (tip#1 / total_bill#0) AS tip_pct#785]\n",
      "+- *(1) Scan ExistingRDD[total_bill#0,tip#1,sex#2,smoker#3,day#4,time#5,size#6L]\n",
      "\n",
      "\n"
     ]
    }
   ],
   "source": [
    "df.select('*', (df.tip / df.total_bill).alias('tip_pct'),).explain()"
   ]
  },
  {
   "cell_type": "code",
   "execution_count": 35,
   "metadata": {},
   "outputs": [
    {
     "name": "stdout",
     "output_type": "stream",
     "text": [
      "== Physical Plan ==\n",
      "*(1) Project [total_bill#0, tip#1, sex#2, smoker#3, day#4, time#5, size#6L, (tip#1 / total_bill#0) AS tip_pct#794]\n",
      "+- *(1) Filter (isnotnull(time#5) AND (time#5 = Dinner))\n",
      "   +- *(1) Scan ExistingRDD[total_bill#0,tip#1,sex#2,smoker#3,day#4,time#5,size#6L]\n",
      "\n",
      "\n"
     ]
    }
   ],
   "source": [
    "df.where(df.time == 'Dinner').select('*', (df.tip / df.total_bill).alias('tip_pct'),).explain()"
   ]
  },
  {
   "cell_type": "code",
   "execution_count": null,
   "metadata": {},
   "outputs": [],
   "source": []
  },
  {
   "cell_type": "code",
   "execution_count": null,
   "metadata": {},
   "outputs": [],
   "source": []
  },
  {
   "cell_type": "code",
   "execution_count": null,
   "metadata": {},
   "outputs": [],
   "source": []
  },
  {
   "cell_type": "code",
   "execution_count": null,
   "metadata": {},
   "outputs": [],
   "source": []
  },
  {
   "cell_type": "code",
   "execution_count": null,
   "metadata": {},
   "outputs": [],
   "source": []
  },
  {
   "cell_type": "code",
   "execution_count": null,
   "metadata": {},
   "outputs": [],
   "source": []
  },
  {
   "cell_type": "code",
   "execution_count": null,
   "metadata": {},
   "outputs": [],
   "source": []
  }
 ],
 "metadata": {
  "kernelspec": {
   "display_name": "Python 3",
   "language": "python",
   "name": "python3"
  },
  "language_info": {
   "codemirror_mode": {
    "name": "ipython",
    "version": 3
   },
   "file_extension": ".py",
   "mimetype": "text/x-python",
   "name": "python",
   "nbconvert_exporter": "python",
   "pygments_lexer": "ipython3",
   "version": "3.8.5"
  }
 },
 "nbformat": 4,
 "nbformat_minor": 4
}
