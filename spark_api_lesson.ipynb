{
 "cells": [
  {
   "cell_type": "markdown",
   "metadata": {},
   "source": [
    "# Spark API Lesson"
   ]
  },
  {
   "cell_type": "markdown",
   "metadata": {},
   "source": [
    "## Sorting and Ordering"
   ]
  },
  {
   "cell_type": "code",
   "execution_count": 1,
   "metadata": {},
   "outputs": [],
   "source": [
    "import pandas as pd\n",
    "import numpy as np\n",
    "import pyspark\n",
    "from pydataset import data\n",
    "\n",
    "\n",
    "spark = pyspark.sql.SparkSession.builder.getOrCreate()\n",
    "np.random.seed(13)"
   ]
  },
  {
   "cell_type": "code",
   "execution_count": 2,
   "metadata": {},
   "outputs": [],
   "source": [
    "pandas_dataframe = data(\"tips\")"
   ]
  },
  {
   "cell_type": "code",
   "execution_count": 3,
   "metadata": {},
   "outputs": [
    {
     "data": {
      "text/plain": [
       "DataFrame[total_bill: double, tip: double, sex: string, smoker: string, day: string, time: string, size: bigint]"
      ]
     },
     "execution_count": 3,
     "metadata": {},
     "output_type": "execute_result"
    }
   ],
   "source": [
    "df = spark.createDataFrame(pandas_dataframe)\n",
    "df"
   ]
  },
  {
   "cell_type": "code",
   "execution_count": 4,
   "metadata": {},
   "outputs": [
    {
     "name": "stdout",
     "output_type": "stream",
     "text": [
      "+----------+----+------+------+---+------+----+\n",
      "|total_bill| tip|   sex|smoker|day|  time|size|\n",
      "+----------+----+------+------+---+------+----+\n",
      "|      8.58|1.92|  Male|   Yes|Fri| Lunch|   1|\n",
      "|     12.46| 1.5|  Male|    No|Fri|Dinner|   2|\n",
      "|     12.03| 1.5|  Male|   Yes|Fri|Dinner|   2|\n",
      "|     16.32| 4.3|Female|   Yes|Fri|Dinner|   2|\n",
      "|     12.16| 2.2|  Male|   Yes|Fri| Lunch|   2|\n",
      "|     27.28| 4.0|  Male|   Yes|Fri|Dinner|   2|\n",
      "|     11.35| 2.5|Female|   Yes|Fri|Dinner|   2|\n",
      "|     22.49| 3.5|  Male|    No|Fri|Dinner|   2|\n",
      "|     10.09| 2.0|Female|   Yes|Fri| Lunch|   2|\n",
      "|      5.75| 1.0|Female|   Yes|Fri|Dinner|   2|\n",
      "|     15.38| 3.0|Female|   Yes|Fri|Dinner|   2|\n",
      "|     21.01| 3.0|  Male|   Yes|Fri|Dinner|   2|\n",
      "|     13.42|3.48|Female|   Yes|Fri| Lunch|   2|\n",
      "|     16.27| 2.5|Female|   Yes|Fri| Lunch|   2|\n",
      "|     13.42|1.58|  Male|   Yes|Fri| Lunch|   2|\n",
      "|     28.97| 3.0|  Male|   Yes|Fri|Dinner|   2|\n",
      "|     22.75|3.25|Female|    No|Fri|Dinner|   2|\n",
      "|     15.98| 3.0|Female|    No|Fri| Lunch|   3|\n",
      "|     40.17|4.73|  Male|   Yes|Fri|Dinner|   4|\n",
      "|      3.07| 1.0|Female|   Yes|Sat|Dinner|   1|\n",
      "+----------+----+------+------+---+------+----+\n",
      "only showing top 20 rows\n",
      "\n"
     ]
    }
   ],
   "source": [
    "df.sort(df.day, df.size).show()"
   ]
  },
  {
   "cell_type": "code",
   "execution_count": 5,
   "metadata": {},
   "outputs": [],
   "source": [
    "from pyspark.sql.functions import asc, desc"
   ]
  },
  {
   "cell_type": "code",
   "execution_count": 6,
   "metadata": {},
   "outputs": [
    {
     "name": "stdout",
     "output_type": "stream",
     "text": [
      "+----------+----+------+------+---+------+----+\n",
      "|total_bill| tip|   sex|smoker|day|  time|size|\n",
      "+----------+----+------+------+---+------+----+\n",
      "|     40.17|4.73|  Male|   Yes|Fri|Dinner|   4|\n",
      "|     15.98| 3.0|Female|    No|Fri| Lunch|   3|\n",
      "|     22.75|3.25|Female|    No|Fri|Dinner|   2|\n",
      "|     22.49| 3.5|  Male|    No|Fri|Dinner|   2|\n",
      "|     28.97| 3.0|  Male|   Yes|Fri|Dinner|   2|\n",
      "|     12.46| 1.5|  Male|    No|Fri|Dinner|   2|\n",
      "|     13.42|3.48|Female|   Yes|Fri| Lunch|   2|\n",
      "|     15.38| 3.0|Female|   Yes|Fri|Dinner|   2|\n",
      "|     27.28| 4.0|  Male|   Yes|Fri|Dinner|   2|\n",
      "|     10.09| 2.0|Female|   Yes|Fri| Lunch|   2|\n",
      "|     13.42|1.58|  Male|   Yes|Fri| Lunch|   2|\n",
      "|     21.01| 3.0|  Male|   Yes|Fri|Dinner|   2|\n",
      "|     12.03| 1.5|  Male|   Yes|Fri|Dinner|   2|\n",
      "|     16.27| 2.5|Female|   Yes|Fri| Lunch|   2|\n",
      "|      5.75| 1.0|Female|   Yes|Fri|Dinner|   2|\n",
      "|     11.35| 2.5|Female|   Yes|Fri|Dinner|   2|\n",
      "|     12.16| 2.2|  Male|   Yes|Fri| Lunch|   2|\n",
      "|     16.32| 4.3|Female|   Yes|Fri|Dinner|   2|\n",
      "|      8.58|1.92|  Male|   Yes|Fri| Lunch|   1|\n",
      "|     28.15| 3.0|  Male|   Yes|Sat|Dinner|   5|\n",
      "+----------+----+------+------+---+------+----+\n",
      "only showing top 20 rows\n",
      "\n"
     ]
    }
   ],
   "source": [
    "df.sort(df.day, desc('size')).show()"
   ]
  },
  {
   "cell_type": "code",
   "execution_count": 7,
   "metadata": {},
   "outputs": [
    {
     "name": "stdout",
     "output_type": "stream",
     "text": [
      "+----------+----+------+------+---+------+----+\n",
      "|total_bill| tip|   sex|smoker|day|  time|size|\n",
      "+----------+----+------+------+---+------+----+\n",
      "|     40.17|4.73|  Male|   Yes|Fri|Dinner|   4|\n",
      "|     27.28| 4.0|  Male|   Yes|Fri|Dinner|   2|\n",
      "|     12.46| 1.5|  Male|    No|Fri|Dinner|   2|\n",
      "|     21.01| 3.0|  Male|   Yes|Fri|Dinner|   2|\n",
      "|     22.75|3.25|Female|    No|Fri|Dinner|   2|\n",
      "|     28.97| 3.0|  Male|   Yes|Fri|Dinner|   2|\n",
      "|     15.38| 3.0|Female|   Yes|Fri|Dinner|   2|\n",
      "|     22.49| 3.5|  Male|    No|Fri|Dinner|   2|\n",
      "|     11.35| 2.5|Female|   Yes|Fri|Dinner|   2|\n",
      "|      5.75| 1.0|Female|   Yes|Fri|Dinner|   2|\n",
      "|     12.03| 1.5|  Male|   Yes|Fri|Dinner|   2|\n",
      "|     16.32| 4.3|Female|   Yes|Fri|Dinner|   2|\n",
      "|     15.98| 3.0|Female|    No|Fri| Lunch|   3|\n",
      "|     13.42|1.58|  Male|   Yes|Fri| Lunch|   2|\n",
      "|     10.09| 2.0|Female|   Yes|Fri| Lunch|   2|\n",
      "|     13.42|3.48|Female|   Yes|Fri| Lunch|   2|\n",
      "|     12.16| 2.2|  Male|   Yes|Fri| Lunch|   2|\n",
      "|     16.27| 2.5|Female|   Yes|Fri| Lunch|   2|\n",
      "|      8.58|1.92|  Male|   Yes|Fri| Lunch|   1|\n",
      "|     28.15| 3.0|  Male|   Yes|Sat|Dinner|   5|\n",
      "+----------+----+------+------+---+------+----+\n",
      "only showing top 20 rows\n",
      "\n"
     ]
    }
   ],
   "source": [
    "#sort by day, then time with dinner first alphabet, then descending by size startign with largest to smallest\n",
    "df.sort(df.day, asc('time'),  desc('size')).show()"
   ]
  },
  {
   "cell_type": "code",
   "execution_count": 9,
   "metadata": {},
   "outputs": [],
   "source": [
    "# df.sort(col('size').desc(), col('time')).show()"
   ]
  },
  {
   "cell_type": "code",
   "execution_count": 10,
   "metadata": {},
   "outputs": [
    {
     "name": "stdout",
     "output_type": "stream",
     "text": [
      "+----------+----+------+------+---+------+----+\n",
      "|total_bill| tip|   sex|smoker|day|  time|size|\n",
      "+----------+----+------+------+---+------+----+\n",
      "|     16.99|1.01|Female|    No|Sun|Dinner|   2|\n",
      "|     10.34|1.66|  Male|    No|Sun|Dinner|   3|\n",
      "|     21.01| 3.5|  Male|    No|Sun|Dinner|   3|\n",
      "|     23.68|3.31|  Male|    No|Sun|Dinner|   2|\n",
      "|     24.59|3.61|Female|    No|Sun|Dinner|   4|\n",
      "|      8.77| 2.0|  Male|    No|Sun|Dinner|   2|\n",
      "|     26.88|3.12|  Male|    No|Sun|Dinner|   4|\n",
      "|     15.04|1.96|  Male|    No|Sun|Dinner|   2|\n",
      "|     14.78|3.23|  Male|    No|Sun|Dinner|   2|\n",
      "|     10.27|1.71|  Male|    No|Sun|Dinner|   2|\n",
      "|     15.42|1.57|  Male|    No|Sun|Dinner|   2|\n",
      "|     18.43| 3.0|  Male|    No|Sun|Dinner|   4|\n",
      "|     14.83|3.02|Female|    No|Sun|Dinner|   2|\n",
      "|     21.58|3.92|  Male|    No|Sun|Dinner|   2|\n",
      "|     10.33|1.67|Female|    No|Sun|Dinner|   3|\n",
      "|     16.29|3.71|  Male|    No|Sun|Dinner|   3|\n",
      "|     16.97| 3.5|Female|    No|Sun|Dinner|   3|\n",
      "|     20.65|3.35|  Male|    No|Sat|Dinner|   3|\n",
      "|     20.29|2.75|Female|    No|Sat|Dinner|   2|\n",
      "|     15.77|2.23|Female|    No|Sat|Dinner|   2|\n",
      "+----------+----+------+------+---+------+----+\n",
      "only showing top 20 rows\n",
      "\n"
     ]
    }
   ],
   "source": [
    "#.where and filter do the same thing\n",
    "df.where(df.tip < 4).show()"
   ]
  },
  {
   "cell_type": "code",
   "execution_count": null,
   "metadata": {},
   "outputs": [],
   "source": [
    "#pandas would give boolean values\n",
    "#now we get column expression representing this expression\n",
    "#turn into mask then show\n",
    "\n",
    "df.tip < 4"
   ]
  },
  {
   "cell_type": "code",
   "execution_count": null,
   "metadata": {},
   "outputs": [],
   "source": [
    "mask = df.tip < 4\n"
   ]
  },
  {
   "cell_type": "code",
   "execution_count": 12,
   "metadata": {},
   "outputs": [
    {
     "name": "stdout",
     "output_type": "stream",
     "text": [
      "+----------+----+------+------+----+------+----+\n",
      "|total_bill| tip|   sex|smoker| day|  time|size|\n",
      "+----------+----+------+------+----+------+----+\n",
      "|      5.75| 1.0|Female|   Yes| Fri|Dinner|   2|\n",
      "|      7.25| 1.0|Female|    No| Sat|Dinner|   1|\n",
      "|      12.6| 1.0|  Male|   Yes| Sat|Dinner|   2|\n",
      "|      3.07| 1.0|Female|   Yes| Sat|Dinner|   1|\n",
      "|     16.99|1.01|Female|    No| Sun|Dinner|   2|\n",
      "|      12.9| 1.1|Female|   Yes| Sat|Dinner|   2|\n",
      "|     32.83|1.17|  Male|   Yes| Sat|Dinner|   2|\n",
      "|     10.07|1.25|  Male|    No| Sat|Dinner|   2|\n",
      "|     10.51|1.25|  Male|    No| Sat|Dinner|   2|\n",
      "|      8.51|1.25|Female|    No|Thur| Lunch|   2|\n",
      "|      9.68|1.32|  Male|    No| Sun|Dinner|   2|\n",
      "|     18.64|1.36|Female|    No|Thur| Lunch|   3|\n",
      "|      7.74|1.44|  Male|   Yes| Sat|Dinner|   2|\n",
      "|      7.56|1.44|  Male|    No|Thur| Lunch|   2|\n",
      "|      9.55|1.45|  Male|    No| Sat|Dinner|   2|\n",
      "|     10.77|1.47|  Male|    No| Sat|Dinner|   2|\n",
      "|      8.52|1.48|  Male|    No|Thur| Lunch|   2|\n",
      "|     19.08| 1.5|  Male|    No|Thur| Lunch|   2|\n",
      "|      8.35| 1.5|Female|    No|Thur| Lunch|   2|\n",
      "|     12.46| 1.5|  Male|    No| Fri|Dinner|   2|\n",
      "+----------+----+------+------+----+------+----+\n",
      "only showing top 20 rows\n",
      "\n"
     ]
    }
   ],
   "source": [
    "#pipe line is \"or\"\n",
    "df.filter((df.time == 'Dinner')|(df.tip <= 2)).sort('tip').show()"
   ]
  },
  {
   "cell_type": "code",
   "execution_count": 14,
   "metadata": {},
   "outputs": [
    {
     "name": "stdout",
     "output_type": "stream",
     "text": [
      "+----------+----+------+------+---+------+----+\n",
      "|total_bill| tip|   sex|smoker|day|  time|size|\n",
      "+----------+----+------+------+---+------+----+\n",
      "|     38.01| 3.0|  Male|   Yes|Sat|Dinner|   4|\n",
      "|     11.24|1.76|  Male|   Yes|Sat|Dinner|   2|\n",
      "|     20.29|3.21|  Male|   Yes|Sat|Dinner|   2|\n",
      "|     13.81| 2.0|  Male|   Yes|Sat|Dinner|   2|\n",
      "|     11.02|1.98|  Male|   Yes|Sat|Dinner|   2|\n",
      "|     18.29|3.76|  Male|   Yes|Sat|Dinner|   4|\n",
      "|      3.07| 1.0|Female|   Yes|Sat|Dinner|   1|\n",
      "|     15.01|2.09|  Male|   Yes|Sat|Dinner|   2|\n",
      "|     26.86|3.14|Female|   Yes|Sat|Dinner|   2|\n",
      "|     25.28| 5.0|Female|   Yes|Sat|Dinner|   2|\n",
      "|     17.92|3.08|  Male|   Yes|Sat|Dinner|   2|\n",
      "|      44.3| 2.5|Female|   Yes|Sat|Dinner|   3|\n",
      "|     22.42|3.48|Female|   Yes|Sat|Dinner|   2|\n",
      "|     15.36|1.64|  Male|   Yes|Sat|Dinner|   2|\n",
      "|     20.49|4.06|  Male|   Yes|Sat|Dinner|   2|\n",
      "|     25.21|4.29|  Male|   Yes|Sat|Dinner|   2|\n",
      "|     14.31| 4.0|Female|   Yes|Sat|Dinner|   2|\n",
      "|     10.59|1.61|Female|   Yes|Sat|Dinner|   2|\n",
      "|     10.63| 2.0|Female|   Yes|Sat|Dinner|   2|\n",
      "|     50.81|10.0|  Male|   Yes|Sat|Dinner|   3|\n",
      "+----------+----+------+------+---+------+----+\n",
      "only showing top 20 rows\n",
      "\n"
     ]
    }
   ],
   "source": [
    "#muli .where is like \"and\"\n",
    "df.where(df.smoker == 'Yes').where(df.day == 'Sat').show()"
   ]
  },
  {
   "cell_type": "markdown",
   "metadata": {},
   "source": [
    "## Grouping and Aggregating"
   ]
  },
  {
   "cell_type": "code",
   "execution_count": null,
   "metadata": {},
   "outputs": [],
   "source": []
  }
 ],
 "metadata": {
  "kernelspec": {
   "display_name": "Python 3",
   "language": "python",
   "name": "python3"
  },
  "language_info": {
   "codemirror_mode": {
    "name": "ipython",
    "version": 3
   },
   "file_extension": ".py",
   "mimetype": "text/x-python",
   "name": "python",
   "nbconvert_exporter": "python",
   "pygments_lexer": "ipython3",
   "version": "3.8.5"
  }
 },
 "nbformat": 4,
 "nbformat_minor": 4
}
