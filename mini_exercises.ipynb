{
 "cells": [
  {
   "cell_type": "markdown",
   "metadata": {},
   "source": [
    "# Mini Exercises"
   ]
  },
  {
   "cell_type": "markdown",
   "metadata": {},
   "source": [
    "### 1. Spark Dataframe Basics\n",
    "\n",
    "- Use the starter code above to create a pandas dataframe.\n",
    "- Convert the pandas dataframe to a spark dataframe. From this point forward, do all of your work with the spark dataframe, not the pandas dataframe.\n",
    "- Show the first 3 rows of the dataframe.\n",
    "- Show the first 7 rows of the dataframe.\n",
    "- View a summary of the data using .describe.\n",
    "- Use .select to create a new dataframe with just the n and abool columns. View the first 5 rows of this dataframe.\n",
    "- Use .select to create a new dataframe with just the group and abool columns. View the first 5 rows of this dataframe.\n",
    "- Use .select to create a new dataframe with the group column and the abool column renamed to a_boolean_value. Show the first 3 rows of this dataframe.\n",
    "- Use .select to create a new dataframe with the group column and the n column renamed to a_numeric_value. Show the first 6 rows of this dataframe."
   ]
  },
  {
   "cell_type": "markdown",
   "metadata": {},
   "source": [
    "#### Use the starter code above to create a pandas dataframe."
   ]
  },
  {
   "cell_type": "code",
   "execution_count": 1,
   "metadata": {},
   "outputs": [],
   "source": [
    "import pandas as pd\n",
    "import numpy as np\n",
    "import pyspark\n",
    "\n",
    "spark = pyspark.sql.SparkSession.builder.getOrCreate()\n",
    "np.random.seed(13)\n",
    "\n",
    "pandas_dataframe = pd.DataFrame({\n",
    "    \"n\": np.random.randn(20),\n",
    "    \"group\": np.random.choice(list(\"xyz\"), 20),\n",
    "    \"abool\": np.random.choice([True, False], 20),\n",
    "})"
   ]
  },
  {
   "cell_type": "code",
   "execution_count": 2,
   "metadata": {},
   "outputs": [
    {
     "data": {
      "text/html": [
       "<div>\n",
       "<style scoped>\n",
       "    .dataframe tbody tr th:only-of-type {\n",
       "        vertical-align: middle;\n",
       "    }\n",
       "\n",
       "    .dataframe tbody tr th {\n",
       "        vertical-align: top;\n",
       "    }\n",
       "\n",
       "    .dataframe thead th {\n",
       "        text-align: right;\n",
       "    }\n",
       "</style>\n",
       "<table border=\"1\" class=\"dataframe\">\n",
       "  <thead>\n",
       "    <tr style=\"text-align: right;\">\n",
       "      <th></th>\n",
       "      <th>n</th>\n",
       "      <th>group</th>\n",
       "      <th>abool</th>\n",
       "    </tr>\n",
       "  </thead>\n",
       "  <tbody>\n",
       "    <tr>\n",
       "      <th>0</th>\n",
       "      <td>-0.712391</td>\n",
       "      <td>z</td>\n",
       "      <td>False</td>\n",
       "    </tr>\n",
       "    <tr>\n",
       "      <th>1</th>\n",
       "      <td>0.753766</td>\n",
       "      <td>x</td>\n",
       "      <td>False</td>\n",
       "    </tr>\n",
       "    <tr>\n",
       "      <th>2</th>\n",
       "      <td>-0.044503</td>\n",
       "      <td>z</td>\n",
       "      <td>False</td>\n",
       "    </tr>\n",
       "    <tr>\n",
       "      <th>3</th>\n",
       "      <td>0.451812</td>\n",
       "      <td>y</td>\n",
       "      <td>False</td>\n",
       "    </tr>\n",
       "    <tr>\n",
       "      <th>4</th>\n",
       "      <td>1.345102</td>\n",
       "      <td>z</td>\n",
       "      <td>False</td>\n",
       "    </tr>\n",
       "    <tr>\n",
       "      <th>5</th>\n",
       "      <td>0.532338</td>\n",
       "      <td>y</td>\n",
       "      <td>False</td>\n",
       "    </tr>\n",
       "    <tr>\n",
       "      <th>6</th>\n",
       "      <td>1.350188</td>\n",
       "      <td>z</td>\n",
       "      <td>False</td>\n",
       "    </tr>\n",
       "    <tr>\n",
       "      <th>7</th>\n",
       "      <td>0.861211</td>\n",
       "      <td>x</td>\n",
       "      <td>False</td>\n",
       "    </tr>\n",
       "    <tr>\n",
       "      <th>8</th>\n",
       "      <td>1.478686</td>\n",
       "      <td>z</td>\n",
       "      <td>True</td>\n",
       "    </tr>\n",
       "    <tr>\n",
       "      <th>9</th>\n",
       "      <td>-1.045377</td>\n",
       "      <td>y</td>\n",
       "      <td>True</td>\n",
       "    </tr>\n",
       "    <tr>\n",
       "      <th>10</th>\n",
       "      <td>-0.788989</td>\n",
       "      <td>x</td>\n",
       "      <td>False</td>\n",
       "    </tr>\n",
       "    <tr>\n",
       "      <th>11</th>\n",
       "      <td>-1.261606</td>\n",
       "      <td>y</td>\n",
       "      <td>False</td>\n",
       "    </tr>\n",
       "    <tr>\n",
       "      <th>12</th>\n",
       "      <td>0.562847</td>\n",
       "      <td>y</td>\n",
       "      <td>True</td>\n",
       "    </tr>\n",
       "    <tr>\n",
       "      <th>13</th>\n",
       "      <td>-0.243326</td>\n",
       "      <td>y</td>\n",
       "      <td>True</td>\n",
       "    </tr>\n",
       "    <tr>\n",
       "      <th>14</th>\n",
       "      <td>0.913741</td>\n",
       "      <td>y</td>\n",
       "      <td>False</td>\n",
       "    </tr>\n",
       "    <tr>\n",
       "      <th>15</th>\n",
       "      <td>0.317351</td>\n",
       "      <td>x</td>\n",
       "      <td>False</td>\n",
       "    </tr>\n",
       "    <tr>\n",
       "      <th>16</th>\n",
       "      <td>0.127303</td>\n",
       "      <td>z</td>\n",
       "      <td>False</td>\n",
       "    </tr>\n",
       "    <tr>\n",
       "      <th>17</th>\n",
       "      <td>2.150383</td>\n",
       "      <td>y</td>\n",
       "      <td>True</td>\n",
       "    </tr>\n",
       "    <tr>\n",
       "      <th>18</th>\n",
       "      <td>0.606289</td>\n",
       "      <td>x</td>\n",
       "      <td>False</td>\n",
       "    </tr>\n",
       "    <tr>\n",
       "      <th>19</th>\n",
       "      <td>-0.026772</td>\n",
       "      <td>x</td>\n",
       "      <td>True</td>\n",
       "    </tr>\n",
       "  </tbody>\n",
       "</table>\n",
       "</div>"
      ],
      "text/plain": [
       "           n group  abool\n",
       "0  -0.712391     z  False\n",
       "1   0.753766     x  False\n",
       "2  -0.044503     z  False\n",
       "3   0.451812     y  False\n",
       "4   1.345102     z  False\n",
       "5   0.532338     y  False\n",
       "6   1.350188     z  False\n",
       "7   0.861211     x  False\n",
       "8   1.478686     z   True\n",
       "9  -1.045377     y   True\n",
       "10 -0.788989     x  False\n",
       "11 -1.261606     y  False\n",
       "12  0.562847     y   True\n",
       "13 -0.243326     y   True\n",
       "14  0.913741     y  False\n",
       "15  0.317351     x  False\n",
       "16  0.127303     z  False\n",
       "17  2.150383     y   True\n",
       "18  0.606289     x  False\n",
       "19 -0.026772     x   True"
      ]
     },
     "execution_count": 2,
     "metadata": {},
     "output_type": "execute_result"
    }
   ],
   "source": [
    "pandas_dataframe"
   ]
  },
  {
   "cell_type": "markdown",
   "metadata": {},
   "source": [
    "#### Convert the pandas dataframe to a spark dataframe. From this point forward, do all of your work with the spark dataframe, not the pandas dataframe."
   ]
  },
  {
   "cell_type": "code",
   "execution_count": 3,
   "metadata": {},
   "outputs": [
    {
     "data": {
      "text/plain": [
       "DataFrame[n: double, group: string, abool: boolean]"
      ]
     },
     "execution_count": 3,
     "metadata": {},
     "output_type": "execute_result"
    }
   ],
   "source": [
    "df = spark.createDataFrame(pandas_dataframe)\n",
    "df"
   ]
  },
  {
   "cell_type": "markdown",
   "metadata": {},
   "source": [
    "#### Show the first 3 rows of the dataframe."
   ]
  },
  {
   "cell_type": "code",
   "execution_count": 4,
   "metadata": {},
   "outputs": [
    {
     "name": "stdout",
     "output_type": "stream",
     "text": [
      "+--------------------+-----+-----+\n",
      "|                   n|group|abool|\n",
      "+--------------------+-----+-----+\n",
      "|  -0.712390662050588|    z|false|\n",
      "|   0.753766378659703|    x|false|\n",
      "|-0.04450307833805...|    z|false|\n",
      "+--------------------+-----+-----+\n",
      "only showing top 3 rows\n",
      "\n"
     ]
    }
   ],
   "source": [
    "df.show(3)"
   ]
  },
  {
   "cell_type": "markdown",
   "metadata": {},
   "source": [
    "#### Show the first 7 rows of the dataframe."
   ]
  },
  {
   "cell_type": "code",
   "execution_count": 5,
   "metadata": {},
   "outputs": [
    {
     "name": "stdout",
     "output_type": "stream",
     "text": [
      "+--------------------+-----+-----+\n",
      "|                   n|group|abool|\n",
      "+--------------------+-----+-----+\n",
      "|  -0.712390662050588|    z|false|\n",
      "|   0.753766378659703|    x|false|\n",
      "|-0.04450307833805...|    z|false|\n",
      "| 0.45181233874578974|    y|false|\n",
      "|  1.3451017084510097|    z|false|\n",
      "|  0.5323378882945463|    y|false|\n",
      "|  1.3501878997225267|    z|false|\n",
      "+--------------------+-----+-----+\n",
      "only showing top 7 rows\n",
      "\n"
     ]
    }
   ],
   "source": [
    "df.show(7)"
   ]
  },
  {
   "cell_type": "markdown",
   "metadata": {},
   "source": [
    "#### View a summary of the data using .describe."
   ]
  },
  {
   "cell_type": "code",
   "execution_count": 7,
   "metadata": {},
   "outputs": [
    {
     "name": "stdout",
     "output_type": "stream",
     "text": [
      "+-------+------------------+-----+\n",
      "|summary|                 n|group|\n",
      "+-------+------------------+-----+\n",
      "|  count|                20|   20|\n",
      "|   mean|0.3664026449885217| null|\n",
      "| stddev|0.8905322898155363| null|\n",
      "|    min|-1.261605945319069|    x|\n",
      "|    max|2.1503829673811126|    z|\n",
      "+-------+------------------+-----+\n",
      "\n"
     ]
    }
   ],
   "source": [
    "df.describe().show()"
   ]
  },
  {
   "cell_type": "markdown",
   "metadata": {},
   "source": [
    "#### Use .select to create a new dataframe with just the n and abool columns. View the first 5 rows of this dataframe."
   ]
  },
  {
   "cell_type": "code",
   "execution_count": 8,
   "metadata": {},
   "outputs": [
    {
     "name": "stdout",
     "output_type": "stream",
     "text": [
      "+--------------------+-----+\n",
      "|                   n|abool|\n",
      "+--------------------+-----+\n",
      "|  -0.712390662050588|false|\n",
      "|   0.753766378659703|false|\n",
      "|-0.04450307833805...|false|\n",
      "| 0.45181233874578974|false|\n",
      "|  1.3451017084510097|false|\n",
      "+--------------------+-----+\n",
      "only showing top 5 rows\n",
      "\n"
     ]
    }
   ],
   "source": [
    "df.select(df.n, df.abool).show(5)"
   ]
  },
  {
   "cell_type": "markdown",
   "metadata": {},
   "source": [
    "#### Use .select to create a new dataframe with just the group and abool columns. View the first 5 rows of this dataframe.\n"
   ]
  },
  {
   "cell_type": "code",
   "execution_count": 9,
   "metadata": {},
   "outputs": [
    {
     "name": "stdout",
     "output_type": "stream",
     "text": [
      "+-----+-----+\n",
      "|group|abool|\n",
      "+-----+-----+\n",
      "|    z|false|\n",
      "|    x|false|\n",
      "|    z|false|\n",
      "|    y|false|\n",
      "|    z|false|\n",
      "+-----+-----+\n",
      "only showing top 5 rows\n",
      "\n"
     ]
    }
   ],
   "source": [
    "df.select(df.group, df.abool).show(5)"
   ]
  },
  {
   "cell_type": "markdown",
   "metadata": {},
   "source": [
    "#### Use .select to create a new dataframe with the group column and the abool column renamed to a_boolean_value. Show the first 3 rows of this dataframe.\n"
   ]
  },
  {
   "cell_type": "code",
   "execution_count": 11,
   "metadata": {},
   "outputs": [
    {
     "name": "stdout",
     "output_type": "stream",
     "text": [
      "+-----+---------------+\n",
      "|group|a_boolean_value|\n",
      "+-----+---------------+\n",
      "|    z|          false|\n",
      "|    x|          false|\n",
      "|    z|          false|\n",
      "+-----+---------------+\n",
      "only showing top 3 rows\n",
      "\n"
     ]
    }
   ],
   "source": [
    "\n",
    "df.select('group', df.abool.alias('a_boolean_value')).show(3)"
   ]
  },
  {
   "cell_type": "markdown",
   "metadata": {},
   "source": [
    "#### Use .select to create a new dataframe with the group column and the n column renamed to a_numeric_value. Show the first 6 rows of this dataframe."
   ]
  },
  {
   "cell_type": "code",
   "execution_count": 12,
   "metadata": {},
   "outputs": [
    {
     "name": "stdout",
     "output_type": "stream",
     "text": [
      "+-----+--------------------+\n",
      "|group|     a_numeric_value|\n",
      "+-----+--------------------+\n",
      "|    z|  -0.712390662050588|\n",
      "|    x|   0.753766378659703|\n",
      "|    z|-0.04450307833805...|\n",
      "|    y| 0.45181233874578974|\n",
      "|    z|  1.3451017084510097|\n",
      "|    y|  0.5323378882945463|\n",
      "+-----+--------------------+\n",
      "only showing top 6 rows\n",
      "\n"
     ]
    }
   ],
   "source": [
    "df.select('group', df.n.alias('a_numeric_value')).show(6)"
   ]
  },
  {
   "cell_type": "markdown",
   "metadata": {},
   "source": [
    "### Column Manipulation\n",
    "\n",
    "- Use the starter code above to re-create a spark dataframe. Store the spark dataframe in a varaible named df\n",
    "\n",
    "- Use .select to add 4 to the n column. Show the results.\n",
    "\n",
    "- Subtract 5 from the n column and view the results.\n",
    "\n",
    "- Multiply the n column by 2. View the results along with the original numbers.\n",
    "\n",
    "- Add a new column named n2 that is the n value multiplied by -1. Show the first 4 rows of your dataframe. You should see the original n value as well as n2.\n",
    "\n",
    "- Add a new column named n3 that is the n value squared. Show the first 5 rows of your dataframe. You should see both n, n2, and n3.\n",
    "\n",
    "- What happens when you run the code below?\n",
    "    - df.group + df.abool\n",
    "- What happens when you run the code below? What is the difference between this and the previous code sample?\n",
    "    - df.select(df.group + df.abool)\n",
    "- Try adding various other columns together. What are the results of combining the different data types?"
   ]
  },
  {
   "cell_type": "markdown",
   "metadata": {},
   "source": [
    "#### Use .select to add 4 to the n column. Show the results."
   ]
  },
  {
   "cell_type": "code",
   "execution_count": 13,
   "metadata": {},
   "outputs": [
    {
     "name": "stdout",
     "output_type": "stream",
     "text": [
      "+------------------+\n",
      "|           (n + 4)|\n",
      "+------------------+\n",
      "|3.2876093379494122|\n",
      "| 4.753766378659703|\n",
      "|3.9554969216619464|\n",
      "|  4.45181233874579|\n",
      "|5.3451017084510095|\n",
      "| 4.532337888294546|\n",
      "| 5.350187899722527|\n",
      "|  4.86121137416932|\n",
      "| 5.478685737435897|\n",
      "| 2.954622869461466|\n",
      "|3.2110109750484512|\n",
      "| 2.738394054680931|\n",
      "| 4.562846785281032|\n",
      "|3.7566737481144377|\n",
      "| 4.913740704859677|\n",
      "| 4.317350922736336|\n",
      "| 4.127303280206981|\n",
      "| 6.150382967381113|\n",
      "| 4.606288656896298|\n",
      "|3.9732283500135592|\n",
      "+------------------+\n",
      "\n"
     ]
    }
   ],
   "source": [
    "df.select(df.n + 4).show()"
   ]
  },
  {
   "cell_type": "markdown",
   "metadata": {},
   "source": [
    "#### Use .select to add 4 to the n column. Show the results."
   ]
  },
  {
   "cell_type": "code",
   "execution_count": 14,
   "metadata": {},
   "outputs": [
    {
     "name": "stdout",
     "output_type": "stream",
     "text": [
      "+--------------------+-------------------+\n",
      "|                   n|            (n - 5)|\n",
      "+--------------------+-------------------+\n",
      "|  -0.712390662050588| -5.712390662050588|\n",
      "|   0.753766378659703| -4.246233621340297|\n",
      "|-0.04450307833805...| -5.044503078338053|\n",
      "| 0.45181233874578974|  -4.54818766125421|\n",
      "|  1.3451017084510097|-3.6548982915489905|\n",
      "|  0.5323378882945463| -4.467662111705454|\n",
      "|  1.3501878997225267|-3.6498121002774733|\n",
      "|  0.8612113741693206|  -4.13878862583068|\n",
      "|  1.4786857374358966| -3.521314262564103|\n",
      "| -1.0453771305385342| -6.045377130538534|\n",
      "| -0.7889890249515489| -5.788989024951549|\n",
      "|  -1.261605945319069| -6.261605945319069|\n",
      "|  0.5628467852810314| -4.437153214718968|\n",
      "|-0.24332625188556253| -5.243326251885563|\n",
      "|  0.9137407048596775| -4.086259295140323|\n",
      "| 0.31735092273633597| -4.682649077263664|\n",
      "| 0.12730328020698067| -4.872696719793019|\n",
      "|  2.1503829673811126|-2.8496170326188874|\n",
      "|  0.6062886568962988| -4.393711343103702|\n",
      "|-0.02677164998644...| -5.026771649986441|\n",
      "+--------------------+-------------------+\n",
      "\n"
     ]
    }
   ],
   "source": [
    "df.select('n', df.n - 5).show()"
   ]
  },
  {
   "cell_type": "markdown",
   "metadata": {},
   "source": [
    "#### Multiply the n column by 2. View the results along with the original numbers."
   ]
  },
  {
   "cell_type": "code",
   "execution_count": 15,
   "metadata": {},
   "outputs": [
    {
     "name": "stdout",
     "output_type": "stream",
     "text": [
      "+--------------------+--------------------+\n",
      "|                   n|             (n * 5)|\n",
      "+--------------------+--------------------+\n",
      "|  -0.712390662050588| -3.5619533102529397|\n",
      "|   0.753766378659703|  3.7688318932985148|\n",
      "|-0.04450307833805...|-0.22251539169026727|\n",
      "| 0.45181233874578974|   2.259061693728949|\n",
      "|  1.3451017084510097|  6.7255085422550485|\n",
      "|  0.5323378882945463|  2.6616894414727317|\n",
      "|  1.3501878997225267|   6.750939498612634|\n",
      "|  0.8612113741693206|   4.306056870846603|\n",
      "|  1.4786857374358966|   7.393428687179483|\n",
      "| -1.0453771305385342|  -5.226885652692671|\n",
      "| -0.7889890249515489| -3.9449451247577443|\n",
      "|  -1.261605945319069|  -6.308029726595345|\n",
      "|  0.5628467852810314|   2.814233926405157|\n",
      "|-0.24332625188556253| -1.2166312594278126|\n",
      "|  0.9137407048596775|   4.568703524298387|\n",
      "| 0.31735092273633597|    1.58675461368168|\n",
      "| 0.12730328020698067|  0.6365164010349034|\n",
      "|  2.1503829673811126|  10.751914836905563|\n",
      "|  0.6062886568962988|  3.0314432844814942|\n",
      "|-0.02677164998644...|-0.13385824993220363|\n",
      "+--------------------+--------------------+\n",
      "\n"
     ]
    }
   ],
   "source": [
    "df.select('n', df.n * 5).show()"
   ]
  },
  {
   "cell_type": "markdown",
   "metadata": {},
   "source": [
    "#### Add a new column named n2 that is the n value multiplied by -1. Show the first 4 rows of your dataframe. You should see the original n value as well as n2.\n",
    "\n"
   ]
  },
  {
   "cell_type": "code",
   "execution_count": 17,
   "metadata": {},
   "outputs": [
    {
     "name": "stdout",
     "output_type": "stream",
     "text": [
      "+--------------------+-----+-----+\n",
      "|                   n|group|abool|\n",
      "+--------------------+-----+-----+\n",
      "|  -0.712390662050588|    z|false|\n",
      "|   0.753766378659703|    x|false|\n",
      "|-0.04450307833805...|    z|false|\n",
      "| 0.45181233874578974|    y|false|\n",
      "+--------------------+-----+-----+\n",
      "only showing top 4 rows\n",
      "\n"
     ]
    }
   ],
   "source": [
    "n2 = (df.n * -1).alias('n2')\n",
    "df.select('*').show(4)"
   ]
  },
  {
   "cell_type": "markdown",
   "metadata": {},
   "source": [
    "#### Add a new column named n3 that is the n value squared. Show the first 5 rows of your dataframe. You should see both n, n2, and n3.\n",
    "\n"
   ]
  },
  {
   "cell_type": "code",
   "execution_count": 19,
   "metadata": {},
   "outputs": [
    {
     "name": "stdout",
     "output_type": "stream",
     "text": [
      "+--------------------+-----+-----+--------------------+\n",
      "|                   n|group|abool|                  n3|\n",
      "+--------------------+-----+-----+--------------------+\n",
      "|  -0.712390662050588|    z|false|   0.507500455376875|\n",
      "|   0.753766378659703|    x|false|  0.5681637535977627|\n",
      "|-0.04450307833805...|    z|false|0.001980523981562...|\n",
      "| 0.45181233874578974|    y|false| 0.20413438944294027|\n",
      "|  1.3451017084510097|    z|false|  1.8092986060778251|\n",
      "+--------------------+-----+-----+--------------------+\n",
      "only showing top 5 rows\n",
      "\n"
     ]
    }
   ],
   "source": [
    "n3 = (df.n ** 2).alias('n3')\n",
    "df = df.select('*', n3)\n",
    "df.show(5)"
   ]
  },
  {
   "cell_type": "markdown",
   "metadata": {},
   "source": [
    "#### What happens when you run the code below?\n",
    "\n",
    "df.group + df.abool"
   ]
  },
  {
   "cell_type": "code",
   "execution_count": 20,
   "metadata": {},
   "outputs": [
    {
     "data": {
      "text/plain": [
       "Column<'(group + abool)'>"
      ]
     },
     "execution_count": 20,
     "metadata": {},
     "output_type": "execute_result"
    }
   ],
   "source": [
    "#add string to boolean\n",
    "#we dont see an error until spark actually tries to evaluate a code\n",
    "df.group + df.abool"
   ]
  },
  {
   "cell_type": "markdown",
   "metadata": {},
   "source": [
    "#### What happens when you run the code below? What is the difference between this and the previous code sample?\n",
    "df.select(df.group + df.abool)\n"
   ]
  },
  {
   "cell_type": "code",
   "execution_count": 21,
   "metadata": {},
   "outputs": [
    {
     "ename": "AnalysisException",
     "evalue": "cannot resolve '(CAST(`group` AS DOUBLE) + `abool`)' due to data type mismatch: differing types in '(CAST(`group` AS DOUBLE) + `abool`)' (double and boolean).;\n'Project [(cast(group#1 as double) + abool#2) AS (group + abool)#370]\n+- Project [n#0, group#1, abool#2, POWER(n#0, cast(2 as double)) AS n3#348]\n   +- LogicalRDD [n#0, group#1, abool#2], false\n",
     "output_type": "error",
     "traceback": [
      "\u001b[0;31m---------------------------------------------------------------------------\u001b[0m",
      "\u001b[0;31mAnalysisException\u001b[0m                         Traceback (most recent call last)",
      "\u001b[0;32m<ipython-input-21-392aef8ccead>\u001b[0m in \u001b[0;36m<module>\u001b[0;34m\u001b[0m\n\u001b[0;32m----> 1\u001b[0;31m \u001b[0mdf\u001b[0m\u001b[0;34m.\u001b[0m\u001b[0mselect\u001b[0m\u001b[0;34m(\u001b[0m\u001b[0mdf\u001b[0m\u001b[0;34m.\u001b[0m\u001b[0mgroup\u001b[0m \u001b[0;34m+\u001b[0m \u001b[0mdf\u001b[0m\u001b[0;34m.\u001b[0m\u001b[0mabool\u001b[0m\u001b[0;34m)\u001b[0m\u001b[0;34m\u001b[0m\u001b[0;34m\u001b[0m\u001b[0m\n\u001b[0m",
      "\u001b[0;32m/usr/local/anaconda3/lib/python3.8/site-packages/pyspark/sql/dataframe.py\u001b[0m in \u001b[0;36mselect\u001b[0;34m(self, *cols)\u001b[0m\n\u001b[1;32m   1667\u001b[0m         \u001b[0;34m[\u001b[0m\u001b[0mRow\u001b[0m\u001b[0;34m(\u001b[0m\u001b[0mname\u001b[0m\u001b[0;34m=\u001b[0m\u001b[0;34m'Alice'\u001b[0m\u001b[0;34m,\u001b[0m \u001b[0mage\u001b[0m\u001b[0;34m=\u001b[0m\u001b[0;36m12\u001b[0m\u001b[0;34m)\u001b[0m\u001b[0;34m,\u001b[0m \u001b[0mRow\u001b[0m\u001b[0;34m(\u001b[0m\u001b[0mname\u001b[0m\u001b[0;34m=\u001b[0m\u001b[0;34m'Bob'\u001b[0m\u001b[0;34m,\u001b[0m \u001b[0mage\u001b[0m\u001b[0;34m=\u001b[0m\u001b[0;36m15\u001b[0m\u001b[0;34m)\u001b[0m\u001b[0;34m]\u001b[0m\u001b[0;34m\u001b[0m\u001b[0;34m\u001b[0m\u001b[0m\n\u001b[1;32m   1668\u001b[0m         \"\"\"\n\u001b[0;32m-> 1669\u001b[0;31m         \u001b[0mjdf\u001b[0m \u001b[0;34m=\u001b[0m \u001b[0mself\u001b[0m\u001b[0;34m.\u001b[0m\u001b[0m_jdf\u001b[0m\u001b[0;34m.\u001b[0m\u001b[0mselect\u001b[0m\u001b[0;34m(\u001b[0m\u001b[0mself\u001b[0m\u001b[0;34m.\u001b[0m\u001b[0m_jcols\u001b[0m\u001b[0;34m(\u001b[0m\u001b[0;34m*\u001b[0m\u001b[0mcols\u001b[0m\u001b[0;34m)\u001b[0m\u001b[0;34m)\u001b[0m\u001b[0;34m\u001b[0m\u001b[0;34m\u001b[0m\u001b[0m\n\u001b[0m\u001b[1;32m   1670\u001b[0m         \u001b[0;32mreturn\u001b[0m \u001b[0mDataFrame\u001b[0m\u001b[0;34m(\u001b[0m\u001b[0mjdf\u001b[0m\u001b[0;34m,\u001b[0m \u001b[0mself\u001b[0m\u001b[0;34m.\u001b[0m\u001b[0msql_ctx\u001b[0m\u001b[0;34m)\u001b[0m\u001b[0;34m\u001b[0m\u001b[0;34m\u001b[0m\u001b[0m\n\u001b[1;32m   1671\u001b[0m \u001b[0;34m\u001b[0m\u001b[0m\n",
      "\u001b[0;32m/usr/local/anaconda3/lib/python3.8/site-packages/py4j/java_gateway.py\u001b[0m in \u001b[0;36m__call__\u001b[0;34m(self, *args)\u001b[0m\n\u001b[1;32m   1302\u001b[0m \u001b[0;34m\u001b[0m\u001b[0m\n\u001b[1;32m   1303\u001b[0m         \u001b[0manswer\u001b[0m \u001b[0;34m=\u001b[0m \u001b[0mself\u001b[0m\u001b[0;34m.\u001b[0m\u001b[0mgateway_client\u001b[0m\u001b[0;34m.\u001b[0m\u001b[0msend_command\u001b[0m\u001b[0;34m(\u001b[0m\u001b[0mcommand\u001b[0m\u001b[0;34m)\u001b[0m\u001b[0;34m\u001b[0m\u001b[0;34m\u001b[0m\u001b[0m\n\u001b[0;32m-> 1304\u001b[0;31m         return_value = get_return_value(\n\u001b[0m\u001b[1;32m   1305\u001b[0m             answer, self.gateway_client, self.target_id, self.name)\n\u001b[1;32m   1306\u001b[0m \u001b[0;34m\u001b[0m\u001b[0m\n",
      "\u001b[0;32m/usr/local/anaconda3/lib/python3.8/site-packages/pyspark/sql/utils.py\u001b[0m in \u001b[0;36mdeco\u001b[0;34m(*a, **kw)\u001b[0m\n\u001b[1;32m    115\u001b[0m                 \u001b[0;31m# Hide where the exception came from that shows a non-Pythonic\u001b[0m\u001b[0;34m\u001b[0m\u001b[0;34m\u001b[0m\u001b[0;34m\u001b[0m\u001b[0m\n\u001b[1;32m    116\u001b[0m                 \u001b[0;31m# JVM exception message.\u001b[0m\u001b[0;34m\u001b[0m\u001b[0;34m\u001b[0m\u001b[0;34m\u001b[0m\u001b[0m\n\u001b[0;32m--> 117\u001b[0;31m                 \u001b[0;32mraise\u001b[0m \u001b[0mconverted\u001b[0m \u001b[0;32mfrom\u001b[0m \u001b[0;32mNone\u001b[0m\u001b[0;34m\u001b[0m\u001b[0;34m\u001b[0m\u001b[0m\n\u001b[0m\u001b[1;32m    118\u001b[0m             \u001b[0;32melse\u001b[0m\u001b[0;34m:\u001b[0m\u001b[0;34m\u001b[0m\u001b[0;34m\u001b[0m\u001b[0m\n\u001b[1;32m    119\u001b[0m                 \u001b[0;32mraise\u001b[0m\u001b[0;34m\u001b[0m\u001b[0;34m\u001b[0m\u001b[0m\n",
      "\u001b[0;31mAnalysisException\u001b[0m: cannot resolve '(CAST(`group` AS DOUBLE) + `abool`)' due to data type mismatch: differing types in '(CAST(`group` AS DOUBLE) + `abool`)' (double and boolean).;\n'Project [(cast(group#1 as double) + abool#2) AS (group + abool)#370]\n+- Project [n#0, group#1, abool#2, POWER(n#0, cast(2 as double)) AS n3#348]\n   +- LogicalRDD [n#0, group#1, abool#2], false\n"
     ]
    }
   ],
   "source": [
    "df.select(df.group + df.abool)"
   ]
  },
  {
   "cell_type": "markdown",
   "metadata": {},
   "source": [
    "#### Try adding various other columns together. What are the results of combining the different data types?"
   ]
  },
  {
   "cell_type": "code",
   "execution_count": null,
   "metadata": {},
   "outputs": [],
   "source": [
    "# can add numbers\n",
    "# adding other things gives errors"
   ]
  },
  {
   "cell_type": "markdown",
   "metadata": {},
   "source": [
    "### Type Casting\n",
    "- Use the starter code above to re-create a spark dataframe.\n",
    "\n",
    "- Use .printSchema to view the datatypes in your dataframe.\n",
    "\n",
    "- Use .dtypes to view the datatypes in your dataframe.\n",
    "\n",
    "- What is the difference between the two code samples below?\n",
    "    - df.abool.cast('int') \n",
    "    - df.select(df.abool.cast('int')).show()\n",
    "- Use .select and .cast to convert the abool column to an integer type. View the results.\n",
    "\n",
    "- Convert the group column to a integer data type and view the results. What happens?\n",
    "\n",
    "- Convert the n column to a integer data type and view the results. What happens?\n",
    "\n",
    "- Convert the abool column to a string data type and view the results. What happens?"
   ]
  },
  {
   "cell_type": "markdown",
   "metadata": {},
   "source": [
    "#### Use .printSchema to view the datatypes in your dataframe."
   ]
  },
  {
   "cell_type": "code",
   "execution_count": 22,
   "metadata": {},
   "outputs": [
    {
     "name": "stdout",
     "output_type": "stream",
     "text": [
      "root\n",
      " |-- n: double (nullable = true)\n",
      " |-- group: string (nullable = true)\n",
      " |-- abool: boolean (nullable = true)\n",
      " |-- n3: double (nullable = true)\n",
      "\n"
     ]
    }
   ],
   "source": [
    "df.printSchema()"
   ]
  },
  {
   "cell_type": "markdown",
   "metadata": {},
   "source": [
    "#### Use .dtypes to view the datatypes in your dataframe."
   ]
  },
  {
   "cell_type": "code",
   "execution_count": 23,
   "metadata": {},
   "outputs": [
    {
     "data": {
      "text/plain": [
       "[('n', 'double'), ('group', 'string'), ('abool', 'boolean'), ('n3', 'double')]"
      ]
     },
     "execution_count": 23,
     "metadata": {},
     "output_type": "execute_result"
    }
   ],
   "source": [
    "df.dtypes"
   ]
  },
  {
   "cell_type": "markdown",
   "metadata": {},
   "source": [
    "#### What is the difference between the two code samples below?\n",
    "- df.abool.cast('int')\n",
    "- df.select(df.abool.cast('int')).show()"
   ]
  },
  {
   "cell_type": "markdown",
   "metadata": {},
   "source": [
    "- The first example is casting abool to int and the second example is displaying the cast"
   ]
  },
  {
   "cell_type": "code",
   "execution_count": 24,
   "metadata": {},
   "outputs": [
    {
     "data": {
      "text/plain": [
       "Column<'CAST(abool AS INT)'>"
      ]
     },
     "execution_count": 24,
     "metadata": {},
     "output_type": "execute_result"
    }
   ],
   "source": [
    "df.abool.cast('int')"
   ]
  },
  {
   "cell_type": "code",
   "execution_count": 25,
   "metadata": {},
   "outputs": [
    {
     "name": "stdout",
     "output_type": "stream",
     "text": [
      "+-----+\n",
      "|abool|\n",
      "+-----+\n",
      "|    0|\n",
      "|    0|\n",
      "|    0|\n",
      "|    0|\n",
      "|    0|\n",
      "|    0|\n",
      "|    0|\n",
      "|    0|\n",
      "|    1|\n",
      "|    1|\n",
      "|    0|\n",
      "|    0|\n",
      "|    1|\n",
      "|    1|\n",
      "|    0|\n",
      "|    0|\n",
      "|    0|\n",
      "|    1|\n",
      "|    0|\n",
      "|    1|\n",
      "+-----+\n",
      "\n"
     ]
    }
   ],
   "source": [
    "df.select(df.abool.cast('int')).show()"
   ]
  },
  {
   "cell_type": "markdown",
   "metadata": {},
   "source": [
    "#### Use .select and .cast to convert the abool column to an integer type. View the results."
   ]
  },
  {
   "cell_type": "code",
   "execution_count": 26,
   "metadata": {},
   "outputs": [
    {
     "name": "stdout",
     "output_type": "stream",
     "text": [
      "+-----+\n",
      "|abool|\n",
      "+-----+\n",
      "|    0|\n",
      "|    0|\n",
      "|    0|\n",
      "|    0|\n",
      "|    0|\n",
      "|    0|\n",
      "|    0|\n",
      "|    0|\n",
      "|    1|\n",
      "|    1|\n",
      "|    0|\n",
      "|    0|\n",
      "|    1|\n",
      "|    1|\n",
      "|    0|\n",
      "|    0|\n",
      "|    0|\n",
      "|    1|\n",
      "|    0|\n",
      "|    1|\n",
      "+-----+\n",
      "\n"
     ]
    }
   ],
   "source": [
    "df.select(df.abool.cast('int')).show()"
   ]
  },
  {
   "cell_type": "markdown",
   "metadata": {},
   "source": [
    "#### Convert the group column to a integer data type and view the results. What happens?"
   ]
  },
  {
   "cell_type": "markdown",
   "metadata": {},
   "source": [
    "- Null values displayed"
   ]
  },
  {
   "cell_type": "code",
   "execution_count": 27,
   "metadata": {},
   "outputs": [
    {
     "name": "stdout",
     "output_type": "stream",
     "text": [
      "+-----+\n",
      "|group|\n",
      "+-----+\n",
      "| null|\n",
      "| null|\n",
      "| null|\n",
      "| null|\n",
      "| null|\n",
      "| null|\n",
      "| null|\n",
      "| null|\n",
      "| null|\n",
      "| null|\n",
      "| null|\n",
      "| null|\n",
      "| null|\n",
      "| null|\n",
      "| null|\n",
      "| null|\n",
      "| null|\n",
      "| null|\n",
      "| null|\n",
      "| null|\n",
      "+-----+\n",
      "\n"
     ]
    }
   ],
   "source": [
    "df.select(df.group.cast('int')).show()"
   ]
  },
  {
   "cell_type": "markdown",
   "metadata": {},
   "source": [
    "#### Convert the n column to a integer data type and view the results. What happens?"
   ]
  },
  {
   "cell_type": "markdown",
   "metadata": {},
   "source": [
    "- 0, 1, -1"
   ]
  },
  {
   "cell_type": "code",
   "execution_count": 28,
   "metadata": {},
   "outputs": [
    {
     "name": "stdout",
     "output_type": "stream",
     "text": [
      "+---+\n",
      "|  n|\n",
      "+---+\n",
      "|  0|\n",
      "|  0|\n",
      "|  0|\n",
      "|  0|\n",
      "|  1|\n",
      "|  0|\n",
      "|  1|\n",
      "|  0|\n",
      "|  1|\n",
      "| -1|\n",
      "|  0|\n",
      "| -1|\n",
      "|  0|\n",
      "|  0|\n",
      "|  0|\n",
      "|  0|\n",
      "|  0|\n",
      "|  2|\n",
      "|  0|\n",
      "|  0|\n",
      "+---+\n",
      "\n"
     ]
    }
   ],
   "source": [
    "df.select(df.n.cast('int')).show()"
   ]
  },
  {
   "cell_type": "markdown",
   "metadata": {},
   "source": [
    "#### Convert the abool column to a string data type and view the results. What happens?"
   ]
  },
  {
   "cell_type": "markdown",
   "metadata": {},
   "source": [
    "- true/false"
   ]
  },
  {
   "cell_type": "code",
   "execution_count": 29,
   "metadata": {},
   "outputs": [
    {
     "name": "stdout",
     "output_type": "stream",
     "text": [
      "+-----+\n",
      "|abool|\n",
      "+-----+\n",
      "|false|\n",
      "|false|\n",
      "|false|\n",
      "|false|\n",
      "|false|\n",
      "|false|\n",
      "|false|\n",
      "|false|\n",
      "| true|\n",
      "| true|\n",
      "|false|\n",
      "|false|\n",
      "| true|\n",
      "| true|\n",
      "|false|\n",
      "|false|\n",
      "|false|\n",
      "| true|\n",
      "|false|\n",
      "| true|\n",
      "+-----+\n",
      "\n"
     ]
    }
   ],
   "source": [
    "df.select(df.abool.cast('string')).show()"
   ]
  },
  {
   "cell_type": "markdown",
   "metadata": {},
   "source": [
    "### Built-in Functions"
   ]
  },
  {
   "cell_type": "markdown",
   "metadata": {},
   "source": [
    "- Use the starter code above to re-create a spark dataframe.\n",
    "- Import the necessary functions from pyspark.sql.functions\n",
    "- Find the highest n value.\n",
    "- Find the lowest n value.\n",
    "- Find the average n value.\n",
    "- Use concat to change the group column to say, e.g. \"Group: x\" or \"Group: y\"\n",
    "- Use concat to combine the n and group columns to produce results that look like this: \"x: -1.432\" or \"z: 2.352\""
   ]
  },
  {
   "cell_type": "markdown",
   "metadata": {},
   "source": [
    "#### Import the necessary functions from pyspark.sql.functions"
   ]
  },
  {
   "cell_type": "code",
   "execution_count": 58,
   "metadata": {},
   "outputs": [],
   "source": [
    "# Note: The pyspark avg and mean functions are aliases of eachother\n",
    "from pyspark.sql.functions import concat, sum, avg, min, max, count, mean, lit"
   ]
  },
  {
   "cell_type": "markdown",
   "metadata": {},
   "source": [
    "#### Find the highest n value."
   ]
  },
  {
   "cell_type": "code",
   "execution_count": 32,
   "metadata": {},
   "outputs": [
    {
     "name": "stdout",
     "output_type": "stream",
     "text": [
      "+------------------+\n",
      "|            max(n)|\n",
      "+------------------+\n",
      "|2.1503829673811126|\n",
      "+------------------+\n",
      "\n"
     ]
    }
   ],
   "source": [
    "df.select(\n",
    "max(df.n)).show()"
   ]
  },
  {
   "cell_type": "markdown",
   "metadata": {},
   "source": [
    "#### Find the lowest n value."
   ]
  },
  {
   "cell_type": "code",
   "execution_count": 33,
   "metadata": {},
   "outputs": [
    {
     "name": "stdout",
     "output_type": "stream",
     "text": [
      "+------------------+\n",
      "|            min(n)|\n",
      "+------------------+\n",
      "|-1.261605945319069|\n",
      "+------------------+\n",
      "\n"
     ]
    }
   ],
   "source": [
    "df.select(\n",
    "min(df.n)).show()"
   ]
  },
  {
   "cell_type": "markdown",
   "metadata": {},
   "source": [
    "#### Find the average n value."
   ]
  },
  {
   "cell_type": "code",
   "execution_count": 34,
   "metadata": {},
   "outputs": [
    {
     "name": "stdout",
     "output_type": "stream",
     "text": [
      "+------------------+\n",
      "|            avg(n)|\n",
      "+------------------+\n",
      "|0.3664026449885217|\n",
      "+------------------+\n",
      "\n"
     ]
    }
   ],
   "source": [
    "df.select(\n",
    "avg(df.n)).show()"
   ]
  },
  {
   "cell_type": "markdown",
   "metadata": {},
   "source": [
    "#### Use concat to change the group column to say, e.g. \"Group: x\" or \"Group: y\""
   ]
  },
  {
   "cell_type": "code",
   "execution_count": 59,
   "metadata": {},
   "outputs": [
    {
     "name": "stdout",
     "output_type": "stream",
     "text": [
      "+-----+----------------------+\n",
      "|group|concat(Group: , group)|\n",
      "+-----+----------------------+\n",
      "|    z|              Group: z|\n",
      "|    x|              Group: x|\n",
      "|    z|              Group: z|\n",
      "|    y|              Group: y|\n",
      "|    z|              Group: z|\n",
      "|    y|              Group: y|\n",
      "|    z|              Group: z|\n",
      "|    x|              Group: x|\n",
      "|    z|              Group: z|\n",
      "|    y|              Group: y|\n",
      "|    x|              Group: x|\n",
      "|    y|              Group: y|\n",
      "|    y|              Group: y|\n",
      "|    y|              Group: y|\n",
      "|    y|              Group: y|\n",
      "|    x|              Group: x|\n",
      "|    z|              Group: z|\n",
      "|    y|              Group: y|\n",
      "|    x|              Group: x|\n",
      "|    x|              Group: x|\n",
      "+-----+----------------------+\n",
      "\n"
     ]
    }
   ],
   "source": [
    "df.select('group', concat(lit('Group: '), 'group')).show()\n"
   ]
  },
  {
   "cell_type": "markdown",
   "metadata": {},
   "source": [
    "#### Use concat to combine the n and group columns to produce results that look like this: \"x: -1.432\" or \"z: 2.352\""
   ]
  },
  {
   "cell_type": "code",
   "execution_count": 60,
   "metadata": {},
   "outputs": [
    {
     "name": "stdout",
     "output_type": "stream",
     "text": [
      "+-----+----------------------+\n",
      "|group|concat(Group: , group)|\n",
      "+-----+----------------------+\n",
      "|    z|              Group: z|\n",
      "|    x|              Group: x|\n",
      "|    z|              Group: z|\n",
      "|    y|              Group: y|\n",
      "|    z|              Group: z|\n",
      "|    y|              Group: y|\n",
      "|    z|              Group: z|\n",
      "|    x|              Group: x|\n",
      "|    z|              Group: z|\n",
      "|    y|              Group: y|\n",
      "|    x|              Group: x|\n",
      "|    y|              Group: y|\n",
      "|    y|              Group: y|\n",
      "|    y|              Group: y|\n",
      "|    y|              Group: y|\n",
      "|    x|              Group: x|\n",
      "|    z|              Group: z|\n",
      "|    y|              Group: y|\n",
      "|    x|              Group: x|\n",
      "|    x|              Group: x|\n",
      "+-----+----------------------+\n",
      "\n"
     ]
    }
   ],
   "source": [
    "df.select('group', concat(lit('Group: '), 'group')).show()\n"
   ]
  },
  {
   "cell_type": "markdown",
   "metadata": {},
   "source": [
    "### 5. When/Otherwise"
   ]
  },
  {
   "cell_type": "markdown",
   "metadata": {},
   "source": [
    "- Use the starter code above to re-create a spark dataframe.\n",
    "- Use when and .otherwise to create a column that contains the text \"It is true\" when abool is true and \"It is false\"\" when abool is false.\n",
    "- Create a column that contains 0 if n is less than 0, otherwise, the original n value."
   ]
  },
  {
   "cell_type": "markdown",
   "metadata": {},
   "source": [
    "#### Use when and .otherwise to create a column that contains the text \"It is true\" when abool is true and \"It is false\"\" when abool is false.\n"
   ]
  },
  {
   "cell_type": "code",
   "execution_count": 37,
   "metadata": {},
   "outputs": [],
   "source": [
    "from pyspark.sql.functions import when"
   ]
  },
  {
   "cell_type": "code",
   "execution_count": 41,
   "metadata": {},
   "outputs": [
    {
     "name": "stdout",
     "output_type": "stream",
     "text": [
      "+-----+-----------+\n",
      "|abool| true/false|\n",
      "+-----+-----------+\n",
      "|false|It is false|\n",
      "|false|It is false|\n",
      "|false|It is false|\n",
      "|false|It is false|\n",
      "|false|It is false|\n",
      "|false|It is false|\n",
      "|false|It is false|\n",
      "|false|It is false|\n",
      "| true| It is true|\n",
      "| true| It is true|\n",
      "|false|It is false|\n",
      "|false|It is false|\n",
      "| true| It is true|\n",
      "| true| It is true|\n",
      "|false|It is false|\n",
      "|false|It is false|\n",
      "|false|It is false|\n",
      "| true| It is true|\n",
      "|false|It is false|\n",
      "| true| It is true|\n",
      "+-----+-----------+\n",
      "\n"
     ]
    }
   ],
   "source": [
    "df.select(df.abool, when(df.abool == 'True', 'It is true').otherwise('It is false').alias('true/false')).show()"
   ]
  },
  {
   "cell_type": "markdown",
   "metadata": {},
   "source": [
    "#### Create a column that contains 0 if n is less than 0, otherwise, the original n value."
   ]
  },
  {
   "cell_type": "code",
   "execution_count": 42,
   "metadata": {},
   "outputs": [
    {
     "name": "stdout",
     "output_type": "stream",
     "text": [
      "+--------------------+-------------------+\n",
      "|                   n|              new n|\n",
      "+--------------------+-------------------+\n",
      "|  -0.712390662050588|                  0|\n",
      "|   0.753766378659703|  0.753766378659703|\n",
      "|-0.04450307833805...|                  0|\n",
      "| 0.45181233874578974|0.45181233874578974|\n",
      "|  1.3451017084510097| 1.3451017084510097|\n",
      "|  0.5323378882945463| 0.5323378882945463|\n",
      "|  1.3501878997225267| 1.3501878997225267|\n",
      "|  0.8612113741693206| 0.8612113741693206|\n",
      "|  1.4786857374358966| 1.4786857374358966|\n",
      "| -1.0453771305385342|                  0|\n",
      "| -0.7889890249515489|                  0|\n",
      "|  -1.261605945319069|                  0|\n",
      "|  0.5628467852810314| 0.5628467852810314|\n",
      "|-0.24332625188556253|                  0|\n",
      "|  0.9137407048596775| 0.9137407048596775|\n",
      "| 0.31735092273633597|0.31735092273633597|\n",
      "| 0.12730328020698067|0.12730328020698067|\n",
      "|  2.1503829673811126| 2.1503829673811126|\n",
      "|  0.6062886568962988| 0.6062886568962988|\n",
      "|-0.02677164998644...|                  0|\n",
      "+--------------------+-------------------+\n",
      "\n"
     ]
    }
   ],
   "source": [
    "df.select(df.n, when(df.n < 0, '0')\n",
    "          .otherwise(df.n).alias('new n')).show()"
   ]
  },
  {
   "cell_type": "markdown",
   "metadata": {},
   "source": [
    "### 6. Filter/Where"
   ]
  },
  {
   "cell_type": "markdown",
   "metadata": {},
   "source": [
    "- Use the starter code above to re-create a spark dataframe.\n",
    "- Use .filter or .where to select just the rows where the group is y and view the results.\n",
    "- Select just the columns where the abool column is false and view the results.\n",
    "- Find the columns where the group column is not y.\n",
    "- Find the columns where n is positive.\n",
    "- Find the columns where abool is true and the group column is z.\n",
    "- Find the columns where abool is true or the group column is z.\n",
    "- Find the columns where abool is false and n is less than 1\n",
    "- Find the columns where abool is false or n is less than 1"
   ]
  },
  {
   "cell_type": "markdown",
   "metadata": {},
   "source": [
    "#### Use .filter or .where to select just the rows where the group is y and view the results.\n"
   ]
  },
  {
   "cell_type": "code",
   "execution_count": 43,
   "metadata": {},
   "outputs": [
    {
     "name": "stdout",
     "output_type": "stream",
     "text": [
      "+--------------------+-----+-----+-------------------+\n",
      "|                   n|group|abool|                 n3|\n",
      "+--------------------+-----+-----+-------------------+\n",
      "| 0.45181233874578974|    y|false|0.20413438944294027|\n",
      "|  0.5323378882945463|    y|false| 0.2833836273138969|\n",
      "| -1.0453771305385342|    y| true| 1.0928133450529796|\n",
      "|  -1.261605945319069|    y|false|  1.591649561264422|\n",
      "|  0.5628467852810314|    y| true|0.31679650370119145|\n",
      "|-0.24332625188556253|    y| true|0.05920766485667622|\n",
      "|  0.9137407048596775|    y|false| 0.8349220757174602|\n",
      "|  2.1503829673811126|    y| true|  4.624146906402799|\n",
      "+--------------------+-----+-----+-------------------+\n",
      "\n"
     ]
    }
   ],
   "source": [
    "df.where(df.group == 'y').show()"
   ]
  },
  {
   "cell_type": "markdown",
   "metadata": {},
   "source": [
    "#### Select just the columns where the abool column is false and view the results.\n"
   ]
  },
  {
   "cell_type": "code",
   "execution_count": 45,
   "metadata": {},
   "outputs": [
    {
     "name": "stdout",
     "output_type": "stream",
     "text": [
      "+--------------------+-----+-----+--------------------+\n",
      "|                   n|group|abool|                  n3|\n",
      "+--------------------+-----+-----+--------------------+\n",
      "|  -0.712390662050588|    z|false|   0.507500455376875|\n",
      "|   0.753766378659703|    x|false|  0.5681637535977627|\n",
      "|-0.04450307833805...|    z|false|0.001980523981562...|\n",
      "| 0.45181233874578974|    y|false| 0.20413438944294027|\n",
      "|  1.3451017084510097|    z|false|  1.8092986060778251|\n",
      "|  0.5323378882945463|    y|false|  0.2833836273138969|\n",
      "|  1.3501878997225267|    z|false|  1.8230073645571279|\n",
      "|  0.8612113741693206|    x|false|  0.7416850309986095|\n",
      "| -0.7889890249515489|    x|false|  0.6225036814939958|\n",
      "|  -1.261605945319069|    y|false|   1.591649561264422|\n",
      "|  0.9137407048596775|    y|false|  0.8349220757174602|\n",
      "| 0.31735092273633597|    x|false| 0.10071160816160388|\n",
      "| 0.12730328020698067|    z|false|0.016206125151457036|\n",
      "|  0.6062886568962988|    x|false|   0.367585935481118|\n",
      "+--------------------+-----+-----+--------------------+\n",
      "\n"
     ]
    }
   ],
   "source": [
    "df.where(df.abool == 'false').show()"
   ]
  },
  {
   "cell_type": "markdown",
   "metadata": {},
   "source": [
    "#### Find the columns where the group column is not y.\n"
   ]
  },
  {
   "cell_type": "code",
   "execution_count": 46,
   "metadata": {},
   "outputs": [
    {
     "name": "stdout",
     "output_type": "stream",
     "text": [
      "+--------------------+-----+-----+--------------------+\n",
      "|                   n|group|abool|                  n3|\n",
      "+--------------------+-----+-----+--------------------+\n",
      "|  -0.712390662050588|    z|false|   0.507500455376875|\n",
      "|   0.753766378659703|    x|false|  0.5681637535977627|\n",
      "|-0.04450307833805...|    z|false|0.001980523981562...|\n",
      "|  1.3451017084510097|    z|false|  1.8092986060778251|\n",
      "|  1.3501878997225267|    z|false|  1.8230073645571279|\n",
      "|  0.8612113741693206|    x|false|  0.7416850309986095|\n",
      "|  1.4786857374358966|    z| true|  2.1865115100963415|\n",
      "| -0.7889890249515489|    x|false|  0.6225036814939958|\n",
      "| 0.31735092273633597|    x|false| 0.10071160816160388|\n",
      "| 0.12730328020698067|    z|false|0.016206125151457036|\n",
      "|  0.6062886568962988|    x|false|   0.367585935481118|\n",
      "|-0.02677164998644...|    x| true|7.167212429964917E-4|\n",
      "+--------------------+-----+-----+--------------------+\n",
      "\n"
     ]
    }
   ],
   "source": [
    "df.where(df.group != 'y').show()"
   ]
  },
  {
   "cell_type": "markdown",
   "metadata": {},
   "source": [
    "#### Find the columns where n is positive.\n"
   ]
  },
  {
   "cell_type": "code",
   "execution_count": 47,
   "metadata": {},
   "outputs": [
    {
     "name": "stdout",
     "output_type": "stream",
     "text": [
      "+-------------------+-----+-----+--------------------+\n",
      "|                  n|group|abool|                  n3|\n",
      "+-------------------+-----+-----+--------------------+\n",
      "|  0.753766378659703|    x|false|  0.5681637535977627|\n",
      "|0.45181233874578974|    y|false| 0.20413438944294027|\n",
      "| 1.3451017084510097|    z|false|  1.8092986060778251|\n",
      "| 0.5323378882945463|    y|false|  0.2833836273138969|\n",
      "| 1.3501878997225267|    z|false|  1.8230073645571279|\n",
      "| 0.8612113741693206|    x|false|  0.7416850309986095|\n",
      "| 1.4786857374358966|    z| true|  2.1865115100963415|\n",
      "| 0.5628467852810314|    y| true| 0.31679650370119145|\n",
      "| 0.9137407048596775|    y|false|  0.8349220757174602|\n",
      "|0.31735092273633597|    x|false| 0.10071160816160388|\n",
      "|0.12730328020698067|    z|false|0.016206125151457036|\n",
      "| 2.1503829673811126|    y| true|   4.624146906402799|\n",
      "| 0.6062886568962988|    x|false|   0.367585935481118|\n",
      "+-------------------+-----+-----+--------------------+\n",
      "\n"
     ]
    }
   ],
   "source": [
    "df.where(df.n > 0).show()"
   ]
  },
  {
   "cell_type": "markdown",
   "metadata": {},
   "source": [
    "#### Find the columns where abool is true and the group column is z.\n"
   ]
  },
  {
   "cell_type": "code",
   "execution_count": 48,
   "metadata": {},
   "outputs": [
    {
     "name": "stdout",
     "output_type": "stream",
     "text": [
      "+------------------+-----+-----+------------------+\n",
      "|                 n|group|abool|                n3|\n",
      "+------------------+-----+-----+------------------+\n",
      "|1.4786857374358966|    z| true|2.1865115100963415|\n",
      "+------------------+-----+-----+------------------+\n",
      "\n"
     ]
    }
   ],
   "source": [
    "df.where(df.abool == 'true').where(df.group == 'z').show()"
   ]
  },
  {
   "cell_type": "markdown",
   "metadata": {},
   "source": [
    "#### Find the columns where abool is true or the group column is z.\n"
   ]
  },
  {
   "cell_type": "code",
   "execution_count": 49,
   "metadata": {},
   "outputs": [
    {
     "name": "stdout",
     "output_type": "stream",
     "text": [
      "+--------------------+-----+-----+--------------------+\n",
      "|                   n|group|abool|                  n3|\n",
      "+--------------------+-----+-----+--------------------+\n",
      "|  -0.712390662050588|    z|false|   0.507500455376875|\n",
      "|-0.04450307833805...|    z|false|0.001980523981562...|\n",
      "|  1.3451017084510097|    z|false|  1.8092986060778251|\n",
      "|  1.3501878997225267|    z|false|  1.8230073645571279|\n",
      "|  1.4786857374358966|    z| true|  2.1865115100963415|\n",
      "| -1.0453771305385342|    y| true|  1.0928133450529796|\n",
      "|  0.5628467852810314|    y| true| 0.31679650370119145|\n",
      "|-0.24332625188556253|    y| true| 0.05920766485667622|\n",
      "| 0.12730328020698067|    z|false|0.016206125151457036|\n",
      "|  2.1503829673811126|    y| true|   4.624146906402799|\n",
      "|-0.02677164998644...|    x| true|7.167212429964917E-4|\n",
      "+--------------------+-----+-----+--------------------+\n",
      "\n"
     ]
    }
   ],
   "source": [
    "df.filter((df.abool == 'true')|(df.group == 'z')).show()"
   ]
  },
  {
   "cell_type": "markdown",
   "metadata": {},
   "source": [
    "#### Find the columns where abool is false and n is less than 1\n"
   ]
  },
  {
   "cell_type": "code",
   "execution_count": 50,
   "metadata": {},
   "outputs": [
    {
     "name": "stdout",
     "output_type": "stream",
     "text": [
      "+--------------------+-----+-----+--------------------+\n",
      "|                   n|group|abool|                  n3|\n",
      "+--------------------+-----+-----+--------------------+\n",
      "|  -0.712390662050588|    z|false|   0.507500455376875|\n",
      "|   0.753766378659703|    x|false|  0.5681637535977627|\n",
      "|-0.04450307833805...|    z|false|0.001980523981562...|\n",
      "| 0.45181233874578974|    y|false| 0.20413438944294027|\n",
      "|  0.5323378882945463|    y|false|  0.2833836273138969|\n",
      "|  0.8612113741693206|    x|false|  0.7416850309986095|\n",
      "| -0.7889890249515489|    x|false|  0.6225036814939958|\n",
      "|  -1.261605945319069|    y|false|   1.591649561264422|\n",
      "|  0.9137407048596775|    y|false|  0.8349220757174602|\n",
      "| 0.31735092273633597|    x|false| 0.10071160816160388|\n",
      "| 0.12730328020698067|    z|false|0.016206125151457036|\n",
      "|  0.6062886568962988|    x|false|   0.367585935481118|\n",
      "+--------------------+-----+-----+--------------------+\n",
      "\n"
     ]
    }
   ],
   "source": [
    "df.where(df.abool == 'false').where(df.n < 1).show()"
   ]
  },
  {
   "cell_type": "markdown",
   "metadata": {},
   "source": [
    "#### Find the columns where abool is false or n is less than 1"
   ]
  },
  {
   "cell_type": "code",
   "execution_count": 51,
   "metadata": {},
   "outputs": [
    {
     "name": "stdout",
     "output_type": "stream",
     "text": [
      "+--------------------+-----+-----+--------------------+\n",
      "|                   n|group|abool|                  n3|\n",
      "+--------------------+-----+-----+--------------------+\n",
      "|  -0.712390662050588|    z|false|   0.507500455376875|\n",
      "|   0.753766378659703|    x|false|  0.5681637535977627|\n",
      "|-0.04450307833805...|    z|false|0.001980523981562...|\n",
      "| 0.45181233874578974|    y|false| 0.20413438944294027|\n",
      "|  1.3451017084510097|    z|false|  1.8092986060778251|\n",
      "|  0.5323378882945463|    y|false|  0.2833836273138969|\n",
      "|  1.3501878997225267|    z|false|  1.8230073645571279|\n",
      "|  0.8612113741693206|    x|false|  0.7416850309986095|\n",
      "| -1.0453771305385342|    y| true|  1.0928133450529796|\n",
      "| -0.7889890249515489|    x|false|  0.6225036814939958|\n",
      "|  -1.261605945319069|    y|false|   1.591649561264422|\n",
      "|  0.5628467852810314|    y| true| 0.31679650370119145|\n",
      "|-0.24332625188556253|    y| true| 0.05920766485667622|\n",
      "|  0.9137407048596775|    y|false|  0.8349220757174602|\n",
      "| 0.31735092273633597|    x|false| 0.10071160816160388|\n",
      "| 0.12730328020698067|    z|false|0.016206125151457036|\n",
      "|  0.6062886568962988|    x|false|   0.367585935481118|\n",
      "|-0.02677164998644...|    x| true|7.167212429964917E-4|\n",
      "+--------------------+-----+-----+--------------------+\n",
      "\n"
     ]
    }
   ],
   "source": [
    "df.filter((df.abool == 'false')|(df.n < 1)).show()"
   ]
  },
  {
   "cell_type": "markdown",
   "metadata": {},
   "source": [
    "### 7. Sorting\n",
    "- Use the starter code above to re-create a spark dataframe.\n",
    "- Sort by the n value.\n",
    "- Sort by the group value, both ascending and descending.\n",
    "- Sort by the group value first, then, within each group, sort by n value.\n",
    "- Sort by abool, group, and n. Does it matter in what order you specify the columns when sorting?"
   ]
  },
  {
   "cell_type": "markdown",
   "metadata": {},
   "source": [
    "#### Sort by the n value.\n"
   ]
  },
  {
   "cell_type": "code",
   "execution_count": 52,
   "metadata": {},
   "outputs": [
    {
     "name": "stdout",
     "output_type": "stream",
     "text": [
      "+--------------------+-----+-----+--------------------+\n",
      "|                   n|group|abool|                  n3|\n",
      "+--------------------+-----+-----+--------------------+\n",
      "|  -1.261605945319069|    y|false|   1.591649561264422|\n",
      "| -1.0453771305385342|    y| true|  1.0928133450529796|\n",
      "| -0.7889890249515489|    x|false|  0.6225036814939958|\n",
      "|  -0.712390662050588|    z|false|   0.507500455376875|\n",
      "|-0.24332625188556253|    y| true| 0.05920766485667622|\n",
      "|-0.04450307833805...|    z|false|0.001980523981562...|\n",
      "|-0.02677164998644...|    x| true|7.167212429964917E-4|\n",
      "| 0.12730328020698067|    z|false|0.016206125151457036|\n",
      "| 0.31735092273633597|    x|false| 0.10071160816160388|\n",
      "| 0.45181233874578974|    y|false| 0.20413438944294027|\n",
      "|  0.5323378882945463|    y|false|  0.2833836273138969|\n",
      "|  0.5628467852810314|    y| true| 0.31679650370119145|\n",
      "|  0.6062886568962988|    x|false|   0.367585935481118|\n",
      "|   0.753766378659703|    x|false|  0.5681637535977627|\n",
      "|  0.8612113741693206|    x|false|  0.7416850309986095|\n",
      "|  0.9137407048596775|    y|false|  0.8349220757174602|\n",
      "|  1.3451017084510097|    z|false|  1.8092986060778251|\n",
      "|  1.3501878997225267|    z|false|  1.8230073645571279|\n",
      "|  1.4786857374358966|    z| true|  2.1865115100963415|\n",
      "|  2.1503829673811126|    y| true|   4.624146906402799|\n",
      "+--------------------+-----+-----+--------------------+\n",
      "\n"
     ]
    }
   ],
   "source": [
    "df.sort(df.n).show()"
   ]
  },
  {
   "cell_type": "markdown",
   "metadata": {},
   "source": [
    "#### Sort by the group value, both ascending and descending.\n"
   ]
  },
  {
   "cell_type": "code",
   "execution_count": 53,
   "metadata": {},
   "outputs": [],
   "source": [
    "from pyspark.sql.functions import asc, desc\n"
   ]
  },
  {
   "cell_type": "code",
   "execution_count": 55,
   "metadata": {},
   "outputs": [
    {
     "name": "stdout",
     "output_type": "stream",
     "text": [
      "+--------------------+-----+-----+--------------------+\n",
      "|                   n|group|abool|                  n3|\n",
      "+--------------------+-----+-----+--------------------+\n",
      "|  1.3451017084510097|    z|false|  1.8092986060778251|\n",
      "|  1.3501878997225267|    z|false|  1.8230073645571279|\n",
      "|  -0.712390662050588|    z|false|   0.507500455376875|\n",
      "|  1.4786857374358966|    z| true|  2.1865115100963415|\n",
      "| 0.12730328020698067|    z|false|0.016206125151457036|\n",
      "|-0.04450307833805...|    z|false|0.001980523981562...|\n",
      "|  -1.261605945319069|    y|false|   1.591649561264422|\n",
      "|  0.5628467852810314|    y| true| 0.31679650370119145|\n",
      "| -1.0453771305385342|    y| true|  1.0928133450529796|\n",
      "|  0.5323378882945463|    y|false|  0.2833836273138969|\n",
      "|-0.24332625188556253|    y| true| 0.05920766485667622|\n",
      "|  0.9137407048596775|    y|false|  0.8349220757174602|\n",
      "|  2.1503829673811126|    y| true|   4.624146906402799|\n",
      "| 0.45181233874578974|    y|false| 0.20413438944294027|\n",
      "| -0.7889890249515489|    x|false|  0.6225036814939958|\n",
      "|   0.753766378659703|    x|false|  0.5681637535977627|\n",
      "|  0.8612113741693206|    x|false|  0.7416850309986095|\n",
      "|-0.02677164998644...|    x| true|7.167212429964917E-4|\n",
      "| 0.31735092273633597|    x|false| 0.10071160816160388|\n",
      "|  0.6062886568962988|    x|false|   0.367585935481118|\n",
      "+--------------------+-----+-----+--------------------+\n",
      "\n"
     ]
    }
   ],
   "source": [
    "df.sort(desc('group')).show()"
   ]
  },
  {
   "cell_type": "code",
   "execution_count": 56,
   "metadata": {},
   "outputs": [
    {
     "name": "stdout",
     "output_type": "stream",
     "text": [
      "+--------------------+-----+-----+--------------------+\n",
      "|                   n|group|abool|                  n3|\n",
      "+--------------------+-----+-----+--------------------+\n",
      "|-0.02677164998644...|    x| true|7.167212429964917E-4|\n",
      "| -0.7889890249515489|    x|false|  0.6225036814939958|\n",
      "|  0.8612113741693206|    x|false|  0.7416850309986095|\n",
      "| 0.31735092273633597|    x|false| 0.10071160816160388|\n",
      "|  0.6062886568962988|    x|false|   0.367585935481118|\n",
      "|   0.753766378659703|    x|false|  0.5681637535977627|\n",
      "|  0.5323378882945463|    y|false|  0.2833836273138969|\n",
      "| 0.45181233874578974|    y|false| 0.20413438944294027|\n",
      "|  2.1503829673811126|    y| true|   4.624146906402799|\n",
      "|  -1.261605945319069|    y|false|   1.591649561264422|\n",
      "|  0.5628467852810314|    y| true| 0.31679650370119145|\n",
      "|-0.24332625188556253|    y| true| 0.05920766485667622|\n",
      "| -1.0453771305385342|    y| true|  1.0928133450529796|\n",
      "|  0.9137407048596775|    y|false|  0.8349220757174602|\n",
      "|  1.3501878997225267|    z|false|  1.8230073645571279|\n",
      "|  1.4786857374358966|    z| true|  2.1865115100963415|\n",
      "| 0.12730328020698067|    z|false|0.016206125151457036|\n",
      "|  -0.712390662050588|    z|false|   0.507500455376875|\n",
      "|  1.3451017084510097|    z|false|  1.8092986060778251|\n",
      "|-0.04450307833805...|    z|false|0.001980523981562...|\n",
      "+--------------------+-----+-----+--------------------+\n",
      "\n"
     ]
    }
   ],
   "source": [
    "df.sort(asc('group')).show()"
   ]
  },
  {
   "cell_type": "markdown",
   "metadata": {},
   "source": [
    "#### Sort by the group value first, then, within each group, sort by n value.\n"
   ]
  },
  {
   "cell_type": "code",
   "execution_count": 61,
   "metadata": {},
   "outputs": [
    {
     "name": "stdout",
     "output_type": "stream",
     "text": [
      "+--------------------+-----+-----+--------------------+\n",
      "|                   n|group|abool|                  n3|\n",
      "+--------------------+-----+-----+--------------------+\n",
      "| -0.7889890249515489|    x|false|  0.6225036814939958|\n",
      "|-0.02677164998644...|    x| true|7.167212429964917E-4|\n",
      "| 0.31735092273633597|    x|false| 0.10071160816160388|\n",
      "|  0.6062886568962988|    x|false|   0.367585935481118|\n",
      "|   0.753766378659703|    x|false|  0.5681637535977627|\n",
      "|  0.8612113741693206|    x|false|  0.7416850309986095|\n",
      "|  -1.261605945319069|    y|false|   1.591649561264422|\n",
      "| -1.0453771305385342|    y| true|  1.0928133450529796|\n",
      "|-0.24332625188556253|    y| true| 0.05920766485667622|\n",
      "| 0.45181233874578974|    y|false| 0.20413438944294027|\n",
      "|  0.5323378882945463|    y|false|  0.2833836273138969|\n",
      "|  0.5628467852810314|    y| true| 0.31679650370119145|\n",
      "|  0.9137407048596775|    y|false|  0.8349220757174602|\n",
      "|  2.1503829673811126|    y| true|   4.624146906402799|\n",
      "|  -0.712390662050588|    z|false|   0.507500455376875|\n",
      "|-0.04450307833805...|    z|false|0.001980523981562...|\n",
      "| 0.12730328020698067|    z|false|0.016206125151457036|\n",
      "|  1.3451017084510097|    z|false|  1.8092986060778251|\n",
      "|  1.3501878997225267|    z|false|  1.8230073645571279|\n",
      "|  1.4786857374358966|    z| true|  2.1865115100963415|\n",
      "+--------------------+-----+-----+--------------------+\n",
      "\n"
     ]
    }
   ],
   "source": [
    "df.sort(df.group, df.n).show()"
   ]
  },
  {
   "cell_type": "markdown",
   "metadata": {},
   "source": [
    "#### Sort by abool, group, and n. Does it matter in what order you specify the columns when sorting?"
   ]
  },
  {
   "cell_type": "code",
   "execution_count": 62,
   "metadata": {},
   "outputs": [
    {
     "name": "stdout",
     "output_type": "stream",
     "text": [
      "+--------------------+-----+-----+--------------------+\n",
      "|                   n|group|abool|                  n3|\n",
      "+--------------------+-----+-----+--------------------+\n",
      "| -0.7889890249515489|    x|false|  0.6225036814939958|\n",
      "| 0.31735092273633597|    x|false| 0.10071160816160388|\n",
      "|  0.6062886568962988|    x|false|   0.367585935481118|\n",
      "|   0.753766378659703|    x|false|  0.5681637535977627|\n",
      "|  0.8612113741693206|    x|false|  0.7416850309986095|\n",
      "|  -1.261605945319069|    y|false|   1.591649561264422|\n",
      "| 0.45181233874578974|    y|false| 0.20413438944294027|\n",
      "|  0.5323378882945463|    y|false|  0.2833836273138969|\n",
      "|  0.9137407048596775|    y|false|  0.8349220757174602|\n",
      "|  -0.712390662050588|    z|false|   0.507500455376875|\n",
      "|-0.04450307833805...|    z|false|0.001980523981562...|\n",
      "| 0.12730328020698067|    z|false|0.016206125151457036|\n",
      "|  1.3451017084510097|    z|false|  1.8092986060778251|\n",
      "|  1.3501878997225267|    z|false|  1.8230073645571279|\n",
      "|-0.02677164998644...|    x| true|7.167212429964917E-4|\n",
      "| -1.0453771305385342|    y| true|  1.0928133450529796|\n",
      "|-0.24332625188556253|    y| true| 0.05920766485667622|\n",
      "|  0.5628467852810314|    y| true| 0.31679650370119145|\n",
      "|  2.1503829673811126|    y| true|   4.624146906402799|\n",
      "|  1.4786857374358966|    z| true|  2.1865115100963415|\n",
      "+--------------------+-----+-----+--------------------+\n",
      "\n"
     ]
    }
   ],
   "source": [
    "df.sort(df.abool, df.group, df.n).show()\n"
   ]
  },
  {
   "cell_type": "code",
   "execution_count": null,
   "metadata": {},
   "outputs": [],
   "source": []
  }
 ],
 "metadata": {
  "kernelspec": {
   "display_name": "Python 3",
   "language": "python",
   "name": "python3"
  },
  "language_info": {
   "codemirror_mode": {
    "name": "ipython",
    "version": 3
   },
   "file_extension": ".py",
   "mimetype": "text/x-python",
   "name": "python",
   "nbconvert_exporter": "python",
   "pygments_lexer": "ipython3",
   "version": "3.8.5"
  }
 },
 "nbformat": 4,
 "nbformat_minor": 4
}
